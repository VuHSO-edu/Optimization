{
 "cells": [
  {
   "cell_type": "code",
   "id": "initial_id",
   "metadata": {
    "collapsed": true,
    "ExecuteTime": {
     "end_time": "2024-09-26T06:26:37.436662Z",
     "start_time": "2024-09-26T06:26:35.622380Z"
    }
   },
   "source": [
    "from operator import index\n",
    "\n",
    "from vnstock3 import Vnstock\n",
    "import vnstock as vs\n",
    "import pandas as pd\n",
    "\n",
    "stock = Vnstock().stock(symbol='ACB', source='VCI')\n"
   ],
   "outputs": [
    {
     "data": {
      "text/plain": [
       "<IPython.core.display.Markdown object>"
      ],
      "text/markdown": "**Vui lòng chuyển đổi sang Vnstock3** thế hệ mới (0.3.0.7) với câu lệnh: `pip install vnstock3 --upgrade`.\n**Từ 1/1/2025, vnstock3 sẽ được cài đặt khi sử dụng cú pháp** `pip install vnstock` **thay cho Vnstock Legacy** hiện tại.\nXem chi tiết [chuyển đổi sang vnstock3](https://vnstocks.com/docs/tai-lieu/migration-chuyen-doi-sang-vnstock3).\nPhiên bản **Vnstock Legacy (0.2.9.2.2)** bạn đang sử dụng **sẽ không được nâng cấp thêm.**\n"
     },
     "metadata": {},
     "output_type": "display_data"
    },
    {
     "name": "stderr",
     "output_type": "stream",
     "text": [
      "2024-09-26 13:26:37,432 - vnstock3.common.data.data_explorer - WARNING - Thông tin niêm yết & giao dịch sẽ được truy xuất từ TCBS\n"
     ]
    }
   ],
   "execution_count": 2
  },
  {
   "metadata": {
    "ExecuteTime": {
     "end_time": "2024-09-26T03:22:03.138351Z",
     "start_time": "2024-09-26T03:22:00.802840Z"
    }
   },
   "cell_type": "code",
   "source": "stock_return = stock.listing.all_symbols()",
   "id": "5b5bb218ca26dea0",
   "outputs": [],
   "execution_count": 2
  },
  {
   "metadata": {
    "ExecuteTime": {
     "end_time": "2024-09-21T08:49:54.156482Z",
     "start_time": "2024-09-21T08:49:53.780423Z"
    }
   },
   "cell_type": "code",
   "source": [
    "stock_return = stock.listing.all_symbols()\n",
    "df = pd.DataFrame(stock_return)\n",
    "\n",
    "df.to_csv('stock_return.csv', index=False, encoding='utf-8')\n",
    "print(\"Done\")\n"
   ],
   "id": "86c6420ce02cc4da",
   "outputs": [
    {
     "name": "stdout",
     "output_type": "stream",
     "text": [
      "Done\n"
     ]
    }
   ],
   "execution_count": 31
  },
  {
   "metadata": {
    "ExecuteTime": {
     "end_time": "2024-09-26T03:47:07.424847Z",
     "start_time": "2024-09-26T03:47:05.979959Z"
    }
   },
   "cell_type": "code",
   "source": [
    "\n",
    "stock_code = 'ACB'\n",
    "\n",
    "start_date = '2024-09-01'\n",
    "end_date = '2024-09-020'\n",
    "\n",
    "\n",
    "#stock.quote.history(symbol='ACB', start='2020-01-01', end='2024-12-31')\n",
    "\n",
    "stock.quote.history(symbol='ACB', start='2020-01-01', end='2024-12-31')\n",
    "\n"
   ],
   "id": "c99607cc1a4f0705",
   "outputs": [
    {
     "data": {
      "text/plain": [
       "           time   open   high    low  close    volume\n",
       "0    2020-01-02   7.88   7.94   7.84   7.94   1163109\n",
       "1    2020-01-03   7.94   8.01   7.91   7.94   1055528\n",
       "2    2020-01-06   7.94   7.94   7.77   7.77   1286035\n",
       "3    2020-01-07   7.77   7.84   7.77   7.77   1050934\n",
       "4    2020-01-08   7.77   7.77   7.60   7.63   2304937\n",
       "...         ...    ...    ...    ...    ...       ...\n",
       "1172 2024-09-20  24.90  25.80  24.90  25.65  34310900\n",
       "1173 2024-09-23  25.70  26.00  25.60  25.65   8574100\n",
       "1174 2024-09-24  25.65  25.80  25.40  25.80  12775500\n",
       "1175 2024-09-25  26.00  26.20  25.80  26.20  23014300\n",
       "1176 2024-09-26  26.30  26.30  26.05  26.15   4236100\n",
       "\n",
       "[1177 rows x 6 columns]"
      ],
      "text/html": [
       "<div>\n",
       "<style scoped>\n",
       "    .dataframe tbody tr th:only-of-type {\n",
       "        vertical-align: middle;\n",
       "    }\n",
       "\n",
       "    .dataframe tbody tr th {\n",
       "        vertical-align: top;\n",
       "    }\n",
       "\n",
       "    .dataframe thead th {\n",
       "        text-align: right;\n",
       "    }\n",
       "</style>\n",
       "<table border=\"1\" class=\"dataframe\">\n",
       "  <thead>\n",
       "    <tr style=\"text-align: right;\">\n",
       "      <th></th>\n",
       "      <th>time</th>\n",
       "      <th>open</th>\n",
       "      <th>high</th>\n",
       "      <th>low</th>\n",
       "      <th>close</th>\n",
       "      <th>volume</th>\n",
       "    </tr>\n",
       "  </thead>\n",
       "  <tbody>\n",
       "    <tr>\n",
       "      <th>0</th>\n",
       "      <td>2020-01-02</td>\n",
       "      <td>7.88</td>\n",
       "      <td>7.94</td>\n",
       "      <td>7.84</td>\n",
       "      <td>7.94</td>\n",
       "      <td>1163109</td>\n",
       "    </tr>\n",
       "    <tr>\n",
       "      <th>1</th>\n",
       "      <td>2020-01-03</td>\n",
       "      <td>7.94</td>\n",
       "      <td>8.01</td>\n",
       "      <td>7.91</td>\n",
       "      <td>7.94</td>\n",
       "      <td>1055528</td>\n",
       "    </tr>\n",
       "    <tr>\n",
       "      <th>2</th>\n",
       "      <td>2020-01-06</td>\n",
       "      <td>7.94</td>\n",
       "      <td>7.94</td>\n",
       "      <td>7.77</td>\n",
       "      <td>7.77</td>\n",
       "      <td>1286035</td>\n",
       "    </tr>\n",
       "    <tr>\n",
       "      <th>3</th>\n",
       "      <td>2020-01-07</td>\n",
       "      <td>7.77</td>\n",
       "      <td>7.84</td>\n",
       "      <td>7.77</td>\n",
       "      <td>7.77</td>\n",
       "      <td>1050934</td>\n",
       "    </tr>\n",
       "    <tr>\n",
       "      <th>4</th>\n",
       "      <td>2020-01-08</td>\n",
       "      <td>7.77</td>\n",
       "      <td>7.77</td>\n",
       "      <td>7.60</td>\n",
       "      <td>7.63</td>\n",
       "      <td>2304937</td>\n",
       "    </tr>\n",
       "    <tr>\n",
       "      <th>...</th>\n",
       "      <td>...</td>\n",
       "      <td>...</td>\n",
       "      <td>...</td>\n",
       "      <td>...</td>\n",
       "      <td>...</td>\n",
       "      <td>...</td>\n",
       "    </tr>\n",
       "    <tr>\n",
       "      <th>1172</th>\n",
       "      <td>2024-09-20</td>\n",
       "      <td>24.90</td>\n",
       "      <td>25.80</td>\n",
       "      <td>24.90</td>\n",
       "      <td>25.65</td>\n",
       "      <td>34310900</td>\n",
       "    </tr>\n",
       "    <tr>\n",
       "      <th>1173</th>\n",
       "      <td>2024-09-23</td>\n",
       "      <td>25.70</td>\n",
       "      <td>26.00</td>\n",
       "      <td>25.60</td>\n",
       "      <td>25.65</td>\n",
       "      <td>8574100</td>\n",
       "    </tr>\n",
       "    <tr>\n",
       "      <th>1174</th>\n",
       "      <td>2024-09-24</td>\n",
       "      <td>25.65</td>\n",
       "      <td>25.80</td>\n",
       "      <td>25.40</td>\n",
       "      <td>25.80</td>\n",
       "      <td>12775500</td>\n",
       "    </tr>\n",
       "    <tr>\n",
       "      <th>1175</th>\n",
       "      <td>2024-09-25</td>\n",
       "      <td>26.00</td>\n",
       "      <td>26.20</td>\n",
       "      <td>25.80</td>\n",
       "      <td>26.20</td>\n",
       "      <td>23014300</td>\n",
       "    </tr>\n",
       "    <tr>\n",
       "      <th>1176</th>\n",
       "      <td>2024-09-26</td>\n",
       "      <td>26.30</td>\n",
       "      <td>26.30</td>\n",
       "      <td>26.05</td>\n",
       "      <td>26.15</td>\n",
       "      <td>4236100</td>\n",
       "    </tr>\n",
       "  </tbody>\n",
       "</table>\n",
       "<p>1177 rows × 6 columns</p>\n",
       "</div>"
      ]
     },
     "execution_count": 18,
     "metadata": {},
     "output_type": "execute_result"
    }
   ],
   "execution_count": 18
  },
  {
   "metadata": {
    "ExecuteTime": {
     "end_time": "2024-09-26T06:26:34.148624Z",
     "start_time": "2024-09-26T06:26:33.895646Z"
    }
   },
   "cell_type": "code",
   "source": [
    "stock = Vnstock().stock(symbol='ACB', source='SSI')\n",
    "df = stock.quote.history(symbol='ACB', start='2020-01-01', end='2024-12-31')\n",
    "df.to_csv('stock_test.csv', index=False, encoding='utf-8')"
   ],
   "id": "86b92c61ede4efd7",
   "outputs": [
    {
     "ename": "NameError",
     "evalue": "name 'Vnstock' is not defined",
     "output_type": "error",
     "traceback": [
      "\u001B[1;31m---------------------------------------------------------------------------\u001B[0m",
      "\u001B[1;31mNameError\u001B[0m                                 Traceback (most recent call last)",
      "Cell \u001B[1;32mIn[1], line 1\u001B[0m\n\u001B[1;32m----> 1\u001B[0m stock \u001B[38;5;241m=\u001B[39m \u001B[43mVnstock\u001B[49m()\u001B[38;5;241m.\u001B[39mstock(symbol\u001B[38;5;241m=\u001B[39m\u001B[38;5;124m'\u001B[39m\u001B[38;5;124mACB\u001B[39m\u001B[38;5;124m'\u001B[39m, source\u001B[38;5;241m=\u001B[39m\u001B[38;5;124m'\u001B[39m\u001B[38;5;124mSSI\u001B[39m\u001B[38;5;124m'\u001B[39m)\n\u001B[0;32m      3\u001B[0m df \u001B[38;5;241m=\u001B[39m stock\u001B[38;5;241m.\u001B[39mquote\u001B[38;5;241m.\u001B[39mhistory(symbol\u001B[38;5;241m=\u001B[39m\u001B[38;5;124m'\u001B[39m\u001B[38;5;124mACB\u001B[39m\u001B[38;5;124m'\u001B[39m, start\u001B[38;5;241m=\u001B[39m\u001B[38;5;124m'\u001B[39m\u001B[38;5;124m2020-01-01\u001B[39m\u001B[38;5;124m'\u001B[39m, end\u001B[38;5;241m=\u001B[39m\u001B[38;5;124m'\u001B[39m\u001B[38;5;124m2024-12-31\u001B[39m\u001B[38;5;124m'\u001B[39m)\n",
      "\u001B[1;31mNameError\u001B[0m: name 'Vnstock' is not defined"
     ]
    }
   ],
   "execution_count": 1
  }
 ],
 "metadata": {
  "kernelspec": {
   "display_name": "Python 3",
   "language": "python",
   "name": "python3"
  },
  "language_info": {
   "codemirror_mode": {
    "name": "ipython",
    "version": 2
   },
   "file_extension": ".py",
   "mimetype": "text/x-python",
   "name": "python",
   "nbconvert_exporter": "python",
   "pygments_lexer": "ipython2",
   "version": "2.7.6"
  }
 },
 "nbformat": 4,
 "nbformat_minor": 5
}
