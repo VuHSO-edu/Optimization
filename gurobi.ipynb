{
 "cells": [
  {
   "cell_type": "code",
   "id": "initial_id",
   "metadata": {
    "collapsed": true,
    "ExecuteTime": {
     "end_time": "2024-10-21T10:02:31.070612Z",
     "start_time": "2024-10-21T10:02:30.475123Z"
    }
   },
   "source": [
    "import gurobipy as gp\n",
    "import itertools\n",
    "import numpy as np\n",
    "from gurobipy import GRB\n",
    "from streamlit import empty\n",
    "\n",
    "# Create a new model"
   ],
   "outputs": [],
   "execution_count": 2
  },
  {
   "metadata": {
    "ExecuteTime": {
     "end_time": "2024-10-02T03:29:23.570274Z",
     "start_time": "2024-10-02T03:29:23.530512Z"
    }
   },
   "cell_type": "code",
   "source": [
    "emptyModel = gp.Model();\n",
    "emptyModel.optimize();"
   ],
   "id": "552214c83fc2bd9e",
   "outputs": [
    {
     "name": "stdout",
     "output_type": "stream",
     "text": [
      "Gurobi Optimizer version 11.0.3 build v11.0.3rc0 (win64 - Windows 11.0 (22631.2))\n",
      "\n",
      "CPU model: AMD Ryzen 5 7535HS with Radeon Graphics, instruction set [SSE2|AVX|AVX2]\n",
      "Thread count: 6 physical cores, 12 logical processors, using up to 12 threads\n",
      "\n",
      "Optimize a model with 0 rows, 0 columns and 0 nonzeros\n",
      "Model fingerprint: 0xf9715da1\n",
      "Coefficient statistics:\n",
      "  Matrix range     [0e+00, 0e+00]\n",
      "  Objective range  [0e+00, 0e+00]\n",
      "  Bounds range     [0e+00, 0e+00]\n",
      "  RHS range        [0e+00, 0e+00]\n",
      "Presolve time: 0.02s\n",
      "Presolve: All rows and columns removed\n",
      "Iteration    Objective       Primal Inf.    Dual Inf.      Time\n",
      "       0    0.0000000e+00   0.000000e+00   0.000000e+00      0s\n",
      "\n",
      "Solved in 0 iterations and 0.03 seconds (0.00 work units)\n",
      "Optimal objective  0.000000000e+00\n"
     ]
    }
   ],
   "execution_count": 3
  },
  {
   "metadata": {
    "ExecuteTime": {
     "end_time": "2024-10-02T03:31:59.890799Z",
     "start_time": "2024-10-02T03:31:59.849514Z"
    }
   },
   "cell_type": "code",
   "source": [
    "# Hello World\n",
    "\n",
    "model = gp.Model(\"Hello_World\")\n",
    "x = model.addVar(lb=0, ub = GRB.INFINITY, vtype=GRB.CONTINUOUS, name='foobar')\n",
    "y = model.addVar(lb=0, ub = GRB.INFINITY, vtype=GRB.CONTINUOUS)\n",
    "\n",
    "# constraint\n",
    "\n",
    "model.addConstr(4*x + y <= 11)\n",
    "model.addConstr(x + y == 5)\n",
    "\n",
    "# objective\n",
    "model.setObjective(x + 2*y, GRB.MAXIMIZE)\n",
    "model.optimize();\n",
    "\n",
    "print(model)\n"
   ],
   "id": "6e2fd5c26a47a3dc",
   "outputs": [
    {
     "name": "stdout",
     "output_type": "stream",
     "text": [
      "Gurobi Optimizer version 11.0.3 build v11.0.3rc0 (win64 - Windows 11.0 (22631.2))\n",
      "\n",
      "CPU model: AMD Ryzen 5 7535HS with Radeon Graphics, instruction set [SSE2|AVX|AVX2]\n",
      "Thread count: 6 physical cores, 12 logical processors, using up to 12 threads\n",
      "\n",
      "Optimize a model with 2 rows, 2 columns and 4 nonzeros\n",
      "Model fingerprint: 0x59fe4e33\n",
      "Coefficient statistics:\n",
      "  Matrix range     [1e+00, 4e+00]\n",
      "  Objective range  [1e+00, 2e+00]\n",
      "  Bounds range     [0e+00, 0e+00]\n",
      "  RHS range        [5e+00, 1e+01]\n",
      "Presolve removed 2 rows and 2 columns\n",
      "Presolve time: 0.01s\n",
      "Presolve: All rows and columns removed\n",
      "Iteration    Objective       Primal Inf.    Dual Inf.      Time\n",
      "       0    1.0000000e+01   0.000000e+00   0.000000e+00      0s\n",
      "\n",
      "Solved in 0 iterations and 0.01 seconds (0.00 work units)\n",
      "Optimal objective  1.000000000e+01\n",
      "<gurobi.Model Continuous instance Hello_World: 2 constrs, 2 vars, Parameter changes: Username=(user-defined)>\n"
     ]
    }
   ],
   "execution_count": 5
  },
  {
   "metadata": {
    "ExecuteTime": {
     "end_time": "2024-10-02T03:43:12.368887Z",
     "start_time": "2024-10-02T03:43:12.338803Z"
    }
   },
   "cell_type": "code",
   "source": [
    "# Example 1\n",
    "\n",
    "# Create a new model\n",
    "m = gp.Model(\"example1\")\n",
    "x1 = m.addVar(lb = 0, ub = 4, vtype=GRB.CONTINUOUS, name = \"x1\")\n",
    "x2 = m.addVar(lb = 0, ub = 5, vtype=GRB.CONTINUOUS, name = \"x2\")\n",
    "x3 = m.addVar(lb = 0, ub = 2, vtype=GRB.CONTINUOUS, name = \"x3\")\n",
    "\n",
    "# Set objective\n",
    "m.addConstr(4*x1 + x2 + 4*x3 <= 25)\n",
    "\n",
    "m.setObjective(2*x1 + x2 + 2*x3, sense=GRB.MAXIMIZE)\n",
    "\n",
    "# Optimize model\n",
    "m.optimize()\n"
   ],
   "id": "ffe07d9ce37e1785",
   "outputs": [
    {
     "name": "stdout",
     "output_type": "stream",
     "text": [
      "Gurobi Optimizer version 11.0.3 build v11.0.3rc0 (win64 - Windows 11.0 (22631.2))\n",
      "\n",
      "CPU model: AMD Ryzen 5 7535HS with Radeon Graphics, instruction set [SSE2|AVX|AVX2]\n",
      "Thread count: 6 physical cores, 12 logical processors, using up to 12 threads\n",
      "\n",
      "Optimize a model with 1 rows, 3 columns and 3 nonzeros\n",
      "Model fingerprint: 0x04e128c4\n",
      "Coefficient statistics:\n",
      "  Matrix range     [1e+00, 4e+00]\n",
      "  Objective range  [1e+00, 2e+00]\n",
      "  Bounds range     [2e+00, 5e+00]\n",
      "  RHS range        [3e+01, 3e+01]\n",
      "Presolve removed 0 rows and 1 columns\n",
      "Presolve time: 0.00s\n",
      "Presolved: 1 rows, 2 columns, 2 nonzeros\n",
      "\n",
      "Iteration    Objective       Primal Inf.    Dual Inf.      Time\n",
      "       0    2.5000000e+01   5.000000e+00   0.000000e+00      0s\n",
      "       1    1.5000000e+01   0.000000e+00   0.000000e+00      0s\n",
      "\n",
      "Solved in 1 iterations and 0.01 seconds (0.00 work units)\n",
      "Optimal objective  1.500000000e+01\n"
     ]
    }
   ],
   "execution_count": 8
  },
  {
   "metadata": {
    "ExecuteTime": {
     "end_time": "2024-10-21T10:02:41.113048Z",
     "start_time": "2024-10-21T10:02:41.096453Z"
    }
   },
   "cell_type": "code",
   "source": [
    "# Max x1 + 2x2\n",
    "# s.t -x1 - x2 <= -6\n",
    "#     2x1 - x2 <= 6\n",
    "#     -x1 + x2 <= 3\n",
    "#     x1, x2 >= 0\n",
    "\n",
    "m = gp.Model(\"HW3_BT1\")\n",
    "\n",
    "# Khai bao bien\n",
    "x1 = model.addVar(vtype=GRB.CONTINUOUS, name=\"x1\", lb=0)\n",
    "x2 = model.addVar(vtype=GRB.CONTINUOUS, name=\"x2\", lb=0)\n",
    "\n",
    "# Ham muc tieu\n",
    "model.setObjective(x1 + 2 * x2, GRB.MAXIMIZE)\n",
    "\n",
    "# Them rang buoc\n",
    "\n",
    "model.addConstr(-x1 - x2 <= -6, \"c1\")\n",
    "model.addConstr(2 * x1 - x2 <= 6, \"c2\")\n",
    "model.addConstr(-x1 + x2 <= 3, \"c3\")\n",
    "\n",
    "# Giai bai toan\n",
    "model.optimize()\n",
    "\n",
    "# In ket qua\n",
    "if model.status == GRB.OPTIMAL:\n",
    "    print(f\"Optimal objective value: {model.objVal}\")\n",
    "    print(f\"Optimal values: x1 = {x1.x}, x2 = {x2.x}\")\n",
    "else:\n",
    "    print(\"No optimal solution found.\")"
   ],
   "id": "6e9d802a78b91b28",
   "outputs": [
    {
     "ename": "NameError",
     "evalue": "name 'model' is not defined",
     "output_type": "error",
     "traceback": [
      "\u001B[1;31m---------------------------------------------------------------------------\u001B[0m",
      "\u001B[1;31mNameError\u001B[0m                                 Traceback (most recent call last)",
      "Cell \u001B[1;32mIn[8], line 10\u001B[0m\n\u001B[0;32m      7\u001B[0m m \u001B[38;5;241m=\u001B[39m gp\u001B[38;5;241m.\u001B[39mModel(\u001B[38;5;124m\"\u001B[39m\u001B[38;5;124mHW3_BT1\u001B[39m\u001B[38;5;124m\"\u001B[39m)\n\u001B[0;32m      9\u001B[0m \u001B[38;5;66;03m# Khai bao bien\u001B[39;00m\n\u001B[1;32m---> 10\u001B[0m x1 \u001B[38;5;241m=\u001B[39m \u001B[43mmodel\u001B[49m\u001B[38;5;241m.\u001B[39maddVar(vtype\u001B[38;5;241m=\u001B[39mGRB\u001B[38;5;241m.\u001B[39mCONTINUOUS, name\u001B[38;5;241m=\u001B[39m\u001B[38;5;124m\"\u001B[39m\u001B[38;5;124mx1\u001B[39m\u001B[38;5;124m\"\u001B[39m, lb\u001B[38;5;241m=\u001B[39m\u001B[38;5;241m0\u001B[39m)\n\u001B[0;32m     11\u001B[0m x2 \u001B[38;5;241m=\u001B[39m model\u001B[38;5;241m.\u001B[39maddVar(vtype\u001B[38;5;241m=\u001B[39mGRB\u001B[38;5;241m.\u001B[39mCONTINUOUS, name\u001B[38;5;241m=\u001B[39m\u001B[38;5;124m\"\u001B[39m\u001B[38;5;124mx2\u001B[39m\u001B[38;5;124m\"\u001B[39m, lb\u001B[38;5;241m=\u001B[39m\u001B[38;5;241m0\u001B[39m)\n\u001B[0;32m     13\u001B[0m \u001B[38;5;66;03m# Ham muc tieu\u001B[39;00m\n",
      "\u001B[1;31mNameError\u001B[0m: name 'model' is not defined"
     ]
    }
   ],
   "execution_count": 8
  }
 ],
 "metadata": {
  "kernelspec": {
   "display_name": "Python 3",
   "language": "python",
   "name": "python3"
  },
  "language_info": {
   "codemirror_mode": {
    "name": "ipython",
    "version": 2
   },
   "file_extension": ".py",
   "mimetype": "text/x-python",
   "name": "python",
   "nbconvert_exporter": "python",
   "pygments_lexer": "ipython2",
   "version": "2.7.6"
  }
 },
 "nbformat": 4,
 "nbformat_minor": 5
}
