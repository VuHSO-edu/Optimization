{
 "cells": [
  {
   "cell_type": "code",
   "id": "initial_id",
   "metadata": {
    "collapsed": true,
    "ExecuteTime": {
     "end_time": "2024-09-21T04:48:28.429646Z",
     "start_time": "2024-09-21T04:48:26.752538Z"
    }
   },
   "source": [
    "import numpy as np\n",
    "import pandas as pd\n",
    "import matplotlib.pyplot as plt\n",
    "import seaborn as sns\n",
    "import vnstock3 as vnstock\n",
    "from streamlit import columns\n",
    "\n",
    "#Đọc dữ liệu\n",
    "data = pd.read_csv('data.csv')"
   ],
   "outputs": [],
   "execution_count": 2
  },
  {
   "metadata": {
    "ExecuteTime": {
     "end_time": "2024-09-21T04:48:30.787541Z",
     "start_time": "2024-09-21T04:48:30.776611Z"
    }
   },
   "cell_type": "code",
   "source": [
    "#Tính toán lợi nhuận hàng ngày\n",
    "data['ACB ret'] = data['ACB'].pct_change()\n",
    "data['FPT ret'] = data['FPT'].pct_change()\n",
    "data['HPG ret'] = data['HPG'].pct_change()\n",
    "\n",
    "print(data.head())"
   ],
   "id": "f44d2aeb20bb6e62",
   "outputs": [
    {
     "name": "stdout",
     "output_type": "stream",
     "text": [
      "      Dates       ACB        FPT        HPG   ACB ret   FPT ret   HPG ret\n",
      "0  20190102  9615.642  20522.476  11249.909       NaN       NaN       NaN\n",
      "1  20190103  9253.409  20323.229  10775.075 -0.037671 -0.009709 -0.042208\n",
      "2  20190104  9319.269  20472.665  10848.126  0.007117  0.007353  0.006780\n",
      "3  20190107  9450.990  20821.347  10720.286  0.014134  0.017032 -0.011785\n",
      "4  20190108  9385.130  20920.971  10537.658 -0.006969  0.004785 -0.017036\n"
     ]
    }
   ],
   "execution_count": 3
  },
  {
   "metadata": {
    "ExecuteTime": {
     "end_time": "2024-09-21T04:48:33.201618Z",
     "start_time": "2024-09-21T04:48:33.197708Z"
    }
   },
   "cell_type": "code",
   "source": [
    "#Return data\n",
    "stock_return = data.iloc[:, 3:]"
   ],
   "id": "149bbfecbfbf4e15",
   "outputs": [],
   "execution_count": 4
  },
  {
   "metadata": {
    "ExecuteTime": {
     "end_time": "2024-09-21T04:48:34.945009Z",
     "start_time": "2024-09-21T04:48:34.936732Z"
    }
   },
   "cell_type": "code",
   "source": [
    "#Tính toán ma trận hiệp phương sai\n",
    "\n",
    "cov_matrix = stock_return.cov()\n",
    "print(cov_matrix)\n"
   ],
   "id": "ac7c5c12e08d3588",
   "outputs": [
    {
     "name": "stdout",
     "output_type": "stream",
     "text": [
      "                  HPG   ACB ret   FPT ret   HPG ret\n",
      "HPG      9.759306e+07  2.381855  5.078204  2.771350\n",
      "ACB ret  2.381855e+00  0.000350  0.000179  0.000212\n",
      "FPT ret  5.078204e+00  0.000179  0.000290  0.000193\n",
      "HPG ret  2.771350e+00  0.000212  0.000193  0.000519\n"
     ]
    }
   ],
   "execution_count": 5
  },
  {
   "metadata": {
    "ExecuteTime": {
     "end_time": "2024-09-21T04:48:37.974163Z",
     "start_time": "2024-09-21T04:48:37.796627Z"
    }
   },
   "cell_type": "code",
   "source": [
    "#Graphing the matris covariance\n",
    "sns.heatmap(cov_matrix)\n",
    "plt.show()\n"
   ],
   "id": "ba0af2a4cc992dbc",
   "outputs": [
    {
     "data": {
      "text/plain": [
       "<Figure size 640x480 with 2 Axes>"
      ],
      "image/png": "[encoded data removed]"
     },
     "metadata": {},
     "output_type": "display_data"
    }
   ],
   "execution_count": 6
  },
  {
   "metadata": {
    "ExecuteTime": {
     "end_time": "2024-09-21T04:48:47.321124Z",
     "start_time": "2024-09-21T04:48:47.316024Z"
    }
   },
   "cell_type": "code",
   "source": [
    "#Variable\n",
    "port_return = []\n",
    "port_volatility = []\n",
    "port_weight = pd.DataFrame()\n",
    "risk_free = 0.03\n"
   ],
   "id": "398bbb9aca6b7038",
   "outputs": [],
   "execution_count": 7
  },
  {
   "metadata": {
    "ExecuteTime": {
     "end_time": "2024-09-21T04:48:50.220169Z",
     "start_time": "2024-09-21T04:48:49.690359Z"
    }
   },
   "cell_type": "code",
   "source": [
    "#Tạo danh mục mô phỏng\n",
    "for i in range(10000):\n",
    "    w = np.random.random(3)\n",
    "    w /= np.sum(w)\n",
    "    port_weight = pd.concat([port_weight, pd.DataFrame(w, columns=['ACB', 'FPT', 'HPG'])], axis=0, ignore_index=True)\n",
    "    port_return.append(np.sum(w*stock_return.mean())*252)\n",
    "    port_volatility.append(np.sqrt(np.dot(w.T,np.dot(cov_matrix, w))) * np.sqrt(252))"
   ],
   "id": "4aebb7a92e9e87cf",
   "outputs": [
    {
     "ename": "ValueError",
     "evalue": "Shape of passed values is (3, 1), indices imply (3, 3)",
     "output_type": "error",
     "traceback": [
      "\u001B[1;31m---------------------------------------------------------------------------\u001B[0m",
      "\u001B[1;31mValueError\u001B[0m                                Traceback (most recent call last)",
      "Cell \u001B[1;32mIn[8], line 5\u001B[0m\n\u001B[0;32m      3\u001B[0m w \u001B[38;5;241m=\u001B[39m np\u001B[38;5;241m.\u001B[39mrandom\u001B[38;5;241m.\u001B[39mrandom(\u001B[38;5;241m3\u001B[39m)\n\u001B[0;32m      4\u001B[0m w \u001B[38;5;241m/\u001B[39m\u001B[38;5;241m=\u001B[39m np\u001B[38;5;241m.\u001B[39msum(w)\n\u001B[1;32m----> 5\u001B[0m port_weight \u001B[38;5;241m=\u001B[39m pd\u001B[38;5;241m.\u001B[39mconcat([port_weight, \u001B[43mpd\u001B[49m\u001B[38;5;241;43m.\u001B[39;49m\u001B[43mDataFrame\u001B[49m\u001B[43m(\u001B[49m\u001B[43mw\u001B[49m\u001B[43m,\u001B[49m\u001B[43m \u001B[49m\u001B[43mcolumns\u001B[49m\u001B[38;5;241;43m=\u001B[39;49m\u001B[43m[\u001B[49m\u001B[38;5;124;43m'\u001B[39;49m\u001B[38;5;124;43mACB\u001B[39;49m\u001B[38;5;124;43m'\u001B[39;49m\u001B[43m,\u001B[49m\u001B[43m \u001B[49m\u001B[38;5;124;43m'\u001B[39;49m\u001B[38;5;124;43mFPT\u001B[39;49m\u001B[38;5;124;43m'\u001B[39;49m\u001B[43m,\u001B[49m\u001B[43m \u001B[49m\u001B[38;5;124;43m'\u001B[39;49m\u001B[38;5;124;43mHPG\u001B[39;49m\u001B[38;5;124;43m'\u001B[39;49m\u001B[43m]\u001B[49m\u001B[43m)\u001B[49m], axis\u001B[38;5;241m=\u001B[39m\u001B[38;5;241m0\u001B[39m, ignore_index\u001B[38;5;241m=\u001B[39m\u001B[38;5;28;01mTrue\u001B[39;00m)\n\u001B[0;32m      6\u001B[0m port_return\u001B[38;5;241m.\u001B[39mappend(np\u001B[38;5;241m.\u001B[39msum(w\u001B[38;5;241m*\u001B[39mstock_return\u001B[38;5;241m.\u001B[39mmean())\u001B[38;5;241m*\u001B[39m\u001B[38;5;241m252\u001B[39m)\n\u001B[0;32m      7\u001B[0m port_volatility\u001B[38;5;241m.\u001B[39mappend(np\u001B[38;5;241m.\u001B[39msqrt(np\u001B[38;5;241m.\u001B[39mdot(w\u001B[38;5;241m.\u001B[39mT,np\u001B[38;5;241m.\u001B[39mdot(cov_matrix, w))) \u001B[38;5;241m*\u001B[39m np\u001B[38;5;241m.\u001B[39msqrt(\u001B[38;5;241m252\u001B[39m))\n",
      "File \u001B[1;32m~\\AppData\\Local\\Programs\\Python\\Python312\\Lib\\site-packages\\pandas\\core\\frame.py:827\u001B[0m, in \u001B[0;36mDataFrame.__init__\u001B[1;34m(self, data, index, columns, dtype, copy)\u001B[0m\n\u001B[0;32m    816\u001B[0m         mgr \u001B[38;5;241m=\u001B[39m dict_to_mgr(\n\u001B[0;32m    817\u001B[0m             \u001B[38;5;66;03m# error: Item \"ndarray\" of \"Union[ndarray, Series, Index]\" has no\u001B[39;00m\n\u001B[0;32m    818\u001B[0m             \u001B[38;5;66;03m# attribute \"name\"\u001B[39;00m\n\u001B[1;32m   (...)\u001B[0m\n\u001B[0;32m    824\u001B[0m             copy\u001B[38;5;241m=\u001B[39m_copy,\n\u001B[0;32m    825\u001B[0m         )\n\u001B[0;32m    826\u001B[0m     \u001B[38;5;28;01melse\u001B[39;00m:\n\u001B[1;32m--> 827\u001B[0m         mgr \u001B[38;5;241m=\u001B[39m \u001B[43mndarray_to_mgr\u001B[49m\u001B[43m(\u001B[49m\n\u001B[0;32m    828\u001B[0m \u001B[43m            \u001B[49m\u001B[43mdata\u001B[49m\u001B[43m,\u001B[49m\n\u001B[0;32m    829\u001B[0m \u001B[43m            \u001B[49m\u001B[43mindex\u001B[49m\u001B[43m,\u001B[49m\n\u001B[0;32m    830\u001B[0m \u001B[43m            \u001B[49m\u001B[43mcolumns\u001B[49m\u001B[43m,\u001B[49m\n\u001B[0;32m    831\u001B[0m \u001B[43m            \u001B[49m\u001B[43mdtype\u001B[49m\u001B[38;5;241;43m=\u001B[39;49m\u001B[43mdtype\u001B[49m\u001B[43m,\u001B[49m\n\u001B[0;32m    832\u001B[0m \u001B[43m            \u001B[49m\u001B[43mcopy\u001B[49m\u001B[38;5;241;43m=\u001B[39;49m\u001B[43mcopy\u001B[49m\u001B[43m,\u001B[49m\n\u001B[0;32m    833\u001B[0m \u001B[43m            \u001B[49m\u001B[43mtyp\u001B[49m\u001B[38;5;241;43m=\u001B[39;49m\u001B[43mmanager\u001B[49m\u001B[43m,\u001B[49m\n\u001B[0;32m    834\u001B[0m \u001B[43m        \u001B[49m\u001B[43m)\u001B[49m\n\u001B[0;32m    836\u001B[0m \u001B[38;5;66;03m# For data is list-like, or Iterable (will consume into list)\u001B[39;00m\n\u001B[0;32m    837\u001B[0m \u001B[38;5;28;01melif\u001B[39;00m is_list_like(data):\n",
      "File \u001B[1;32m~\\AppData\\Local\\Programs\\Python\\Python312\\Lib\\site-packages\\pandas\\core\\internals\\construction.py:336\u001B[0m, in \u001B[0;36mndarray_to_mgr\u001B[1;34m(values, index, columns, dtype, copy, typ)\u001B[0m\n\u001B[0;32m    331\u001B[0m \u001B[38;5;66;03m# _prep_ndarraylike ensures that values.ndim == 2 at this point\u001B[39;00m\n\u001B[0;32m    332\u001B[0m index, columns \u001B[38;5;241m=\u001B[39m _get_axes(\n\u001B[0;32m    333\u001B[0m     values\u001B[38;5;241m.\u001B[39mshape[\u001B[38;5;241m0\u001B[39m], values\u001B[38;5;241m.\u001B[39mshape[\u001B[38;5;241m1\u001B[39m], index\u001B[38;5;241m=\u001B[39mindex, columns\u001B[38;5;241m=\u001B[39mcolumns\n\u001B[0;32m    334\u001B[0m )\n\u001B[1;32m--> 336\u001B[0m \u001B[43m_check_values_indices_shape_match\u001B[49m\u001B[43m(\u001B[49m\u001B[43mvalues\u001B[49m\u001B[43m,\u001B[49m\u001B[43m \u001B[49m\u001B[43mindex\u001B[49m\u001B[43m,\u001B[49m\u001B[43m \u001B[49m\u001B[43mcolumns\u001B[49m\u001B[43m)\u001B[49m\n\u001B[0;32m    338\u001B[0m \u001B[38;5;28;01mif\u001B[39;00m typ \u001B[38;5;241m==\u001B[39m \u001B[38;5;124m\"\u001B[39m\u001B[38;5;124marray\u001B[39m\u001B[38;5;124m\"\u001B[39m:\n\u001B[0;32m    339\u001B[0m     \u001B[38;5;28;01mif\u001B[39;00m \u001B[38;5;28missubclass\u001B[39m(values\u001B[38;5;241m.\u001B[39mdtype\u001B[38;5;241m.\u001B[39mtype, \u001B[38;5;28mstr\u001B[39m):\n",
      "File \u001B[1;32m~\\AppData\\Local\\Programs\\Python\\Python312\\Lib\\site-packages\\pandas\\core\\internals\\construction.py:420\u001B[0m, in \u001B[0;36m_check_values_indices_shape_match\u001B[1;34m(values, index, columns)\u001B[0m\n\u001B[0;32m    418\u001B[0m passed \u001B[38;5;241m=\u001B[39m values\u001B[38;5;241m.\u001B[39mshape\n\u001B[0;32m    419\u001B[0m implied \u001B[38;5;241m=\u001B[39m (\u001B[38;5;28mlen\u001B[39m(index), \u001B[38;5;28mlen\u001B[39m(columns))\n\u001B[1;32m--> 420\u001B[0m \u001B[38;5;28;01mraise\u001B[39;00m \u001B[38;5;167;01mValueError\u001B[39;00m(\u001B[38;5;124mf\u001B[39m\u001B[38;5;124m\"\u001B[39m\u001B[38;5;124mShape of passed values is \u001B[39m\u001B[38;5;132;01m{\u001B[39;00mpassed\u001B[38;5;132;01m}\u001B[39;00m\u001B[38;5;124m, indices imply \u001B[39m\u001B[38;5;132;01m{\u001B[39;00mimplied\u001B[38;5;132;01m}\u001B[39;00m\u001B[38;5;124m\"\u001B[39m)\n",
      "\u001B[1;31mValueError\u001B[0m: Shape of passed values is (3, 1), indices imply (3, 3)"
     ]
    }
   ],
   "execution_count": 8
  },
  {
   "metadata": {
    "ExecuteTime": {
     "end_time": "2024-09-21T04:48:55.690422Z",
     "start_time": "2024-09-21T04:48:55.599642Z"
    }
   },
   "cell_type": "code",
   "source": [
    "#Trực quan hóa danh mục mô phỏng\n",
    "fig, ax = plt.subplots()\n",
    "sns.scatterplot(x= port_volatility, y= port_return, ax=ax)\n",
    "plt.show()"
   ],
   "id": "75afd38906cc9059",
   "outputs": [
    {
     "data": {
      "text/plain": [
       "<Figure size 640x480 with 1 Axes>"
      ],
      "image/png": "[encoded data removed]"
     },
     "metadata": {},
     "output_type": "display_data"
    }
   ],
   "execution_count": 9
  }
 ],
 "metadata": {
  "kernelspec": {
   "display_name": "Python 3",
   "language": "python",
   "name": "python3"
  },
  "language_info": {
   "codemirror_mode": {
    "name": "ipython",
    "version": 2
   },
   "file_extension": ".py",
   "mimetype": "text/x-python",
   "name": "python",
   "nbconvert_exporter": "python",
   "pygments_lexer": "ipython2",
   "version": "2.7.6"
  }
 },
 "nbformat": 4,
 "nbformat_minor": 5
}
