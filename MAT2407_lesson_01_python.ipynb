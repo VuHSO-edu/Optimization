{
 "cells": [
  {
   "cell_type": "markdown",
   "metadata": {
    "id": "P8d1QlYosJXH"
   },
   "source": [
    "# Introduction to Python"
   ]
  },
  {
   "cell_type": "markdown",
   "metadata": {
    "id": "Iz5BuMN4t0Ac"
   },
   "source": [
    "## The first program"
   ]
  },
  {
   "cell_type": "code",
   "metadata": {
    "id": "KotQuOfpIQUF",
    "ExecuteTime": {
     "end_time": "2024-09-11T03:18:08.356344Z",
     "start_time": "2024-09-11T03:18:08.345831Z"
    }
   },
   "source": [
    "this_year = 2024\n",
    "birth_year = 2001\n",
    "age = this_year - birth_year        "
   ],
   "outputs": [],
   "execution_count": 1
  },
  {
   "cell_type": "code",
   "metadata": {
    "colab": {
     "base_uri": "https://localhost:8080/"
    },
    "id": "iLIHux2hIQr-",
    "outputId": "6117a0a8-14e7-4f58-f590-aff24270c87a",
    "ExecuteTime": {
     "end_time": "2024-09-11T03:18:14.837611Z",
     "start_time": "2024-09-11T03:18:14.830606Z"
    }
   },
   "source": [
    "print(age)\n",
    "print(\"I'm  \" + str(age) + \" years old\")\n",
    "print(f\"I am {age} years old\")"
   ],
   "outputs": [
    {
     "name": "stdout",
     "output_type": "stream",
     "text": [
      "23\n",
      "I'm  23 years old\n",
      "I am 23 years old\n"
     ]
    }
   ],
   "execution_count": 2
  },
  {
   "cell_type": "markdown",
   "metadata": {
    "id": "Xo1SQpIUuCPP"
   },
   "source": [
    "## Numbers and operators (số và phép toán)"
   ]
  },
  {
   "cell_type": "code",
   "metadata": {
    "colab": {
     "base_uri": "https://localhost:8080/"
    },
    "id": "NdWbo81xD6Vg",
    "outputId": "d0604806-4cd8-4d74-9b5d-a13c48734ded",
    "ExecuteTime": {
     "end_time": "2024-09-10T15:10:50.733946Z",
     "start_time": "2024-09-10T15:10:50.729481Z"
    }
   },
   "source": [
    "foo = 5\n",
    "print(type(foo))\n",
    "bar = 5.0\n",
    "print(type(bar))\n",
    "ham = 5.0 + 1j # complex number, not so popular\n",
    "print(type(ham))"
   ],
   "outputs": [
    {
     "name": "stdout",
     "output_type": "stream",
     "text": [
      "<class 'int'>\n",
      "<class 'float'>\n",
      "<class 'complex'>\n"
     ]
    }
   ],
   "execution_count": 4
  },
  {
   "cell_type": "code",
   "execution_count": null,
   "metadata": {
    "colab": {
     "base_uri": "https://localhost:8080/"
    },
    "id": "6U4i1o_cD6jP",
    "outputId": "3a8569f5-d7a9-4c98-a3b9-ca9ee54faeb5"
   },
   "outputs": [],
   "source": [
    "print(5 + 10)\n",
    "print(1 - 9)\n",
    "print(6 * 7)\n",
    "print(7 / 8)\n",
    "print(14 // 5)\n",
    "print(14 % 5)\n",
    "# print(divmod(14, 5)) # advanced\n",
    "print(2**10)"
   ]
  },
  {
   "cell_type": "code",
   "metadata": {
    "colab": {
     "base_uri": "https://localhost:8080/"
    },
    "id": "gPnZAFvXKaU0",
    "outputId": "f8ac3cd8-3730-4380-8f81-f7184676ca02",
    "ExecuteTime": {
     "end_time": "2024-09-11T03:23:56.493717Z",
     "start_time": "2024-09-11T03:23:56.485525Z"
    }
   },
   "source": [
    "# Bài tập: đặt các phép tính + - * / và dấu ngoặc vào xung quanh\n",
    "# các chữ số từ 1 đến 9 để được giá trị bằng 100\n",
    "# 1 2 3 4 5 6 7 8 9 = 100\n",
    "print(1 + 2 + 3 + 4 + 5 + 6 + 7 + 8*9) # 100\n",
    "print(123 + 45 - 67  + 8 - 9) # 100"
   ],
   "outputs": [
    {
     "name": "stdout",
     "output_type": "stream",
     "text": [
      "100\n",
      "100\n"
     ]
    }
   ],
   "execution_count": 3
  },
  {
   "cell_type": "markdown",
   "metadata": {
    "id": "Yf7m9ahqvKDs"
   },
   "source": [
    "## string"
   ]
  },
  {
   "cell_type": "code",
   "metadata": {
    "colab": {
     "base_uri": "https://localhost:8080/"
    },
    "id": "MXpJ_qG0vLHL",
    "outputId": "dccbb9b7-24c8-42a2-bc2e-a6d37136b3da",
    "ExecuteTime": {
     "end_time": "2024-09-11T03:42:26.725583Z",
     "start_time": "2024-09-11T03:42:26.707251Z"
    }
   },
   "source": [
    "string = 'Python'\n",
    "string = \"Python\"\n",
    "string = \"\"\"Python\"\"\"\n",
    "len(string)"
   ],
   "outputs": [
    {
     "data": {
      "text/plain": [
       "6"
      ]
     },
     "execution_count": 5,
     "metadata": {},
     "output_type": "execute_result"
    }
   ],
   "execution_count": 5
  },
  {
   "cell_type": "code",
   "metadata": {
    "colab": {
     "base_uri": "https://localhost:8080/"
    },
    "id": "wnt2IbUgvPxg",
    "outputId": "50699f03-82e8-408c-a3a1-e38e673b76c7",
    "ExecuteTime": {
     "end_time": "2024-09-11T03:42:38.880014Z",
     "start_time": "2024-09-11T03:42:38.869854Z"
    }
   },
   "source": [
    "# kiểm tra xem một chữ cái nào đó có ở trong string hay không\n",
    "# 't' có ở trong 'Python' hay không?\n",
    "'t' in string\n",
    "'z' in string\n",
    "\n",
    "# kiểm tra cụm chữ \"th\" có nằm trong 'python' hay không?\n",
    "'th' in string"
   ],
   "outputs": [
    {
     "data": {
      "text/plain": [
       "True"
      ]
     },
     "execution_count": 6,
     "metadata": {},
     "output_type": "execute_result"
    }
   ],
   "execution_count": 6
  },
  {
   "cell_type": "markdown",
   "metadata": {
    "id": "D4sYrBfnsyEs"
   },
   "source": [
    "## list & tuple"
   ]
  },
  {
   "cell_type": "code",
   "metadata": {
    "colab": {
     "base_uri": "https://localhost:8080/"
    },
    "id": "_VQaUz53FTY3",
    "outputId": "510a6b7e-b8f7-4add-87e9-28be8b453993",
    "ExecuteTime": {
     "end_time": "2024-09-11T03:43:21.179298Z",
     "start_time": "2024-09-11T03:43:21.164703Z"
    }
   },
   "source": [
    "myList = [1, 2, 3.4, 'motCaiString']\n",
    "print(type(myList))"
   ],
   "outputs": [
    {
     "name": "stdout",
     "output_type": "stream",
     "text": [
      "<class 'list'>\n"
     ]
    }
   ],
   "execution_count": 7
  },
  {
   "cell_type": "code",
   "execution_count": null,
   "metadata": {
    "colab": {
     "base_uri": "https://localhost:8080/"
    },
    "id": "69aTwFY-FTkX",
    "outputId": "3cf72c63-3f34-44ee-ea69-935cad330dfd"
   },
   "outputs": [],
   "source": [
    "# Khởi tạo rỗng\n",
    "myList = []\n",
    "myList = list()\n",
    "# justForFun = [[]].pop()\n",
    "\n",
    "# Khởi tạo với một số phần tử\n",
    "foo = [1, 1.0, 'motCaiString', [], int]\n",
    "\n",
    "# Truy cập phần tử\n",
    "print(foo[0])\n",
    "print(foo[1])\n",
    "print(foo[4])"
   ]
  },
  {
   "cell_type": "code",
   "execution_count": null,
   "metadata": {
    "colab": {
     "base_uri": "https://localhost:8080/"
    },
    "id": "jXhPVAOgHC_y",
    "outputId": "6dc74a56-0a17-4416-ad52-9fdd1f971f92"
   },
   "outputs": [],
   "source": [
    "myValues = [1, 2, 3, 4, 5, 6]\n",
    "total = sum(myValues)\n",
    "print(total)"
   ]
  },
  {
   "cell_type": "code",
   "metadata": {
    "id": "CMcI9jpG7kq_",
    "ExecuteTime": {
     "end_time": "2024-09-11T03:45:59.746624Z",
     "start_time": "2024-09-11T03:45:59.738574Z"
    }
   },
   "source": [
    "names = [0.5, 3.14,5,6,  9, 'Trần T. Tùng', \"\"]"
   ],
   "outputs": [],
   "execution_count": 9
  },
  {
   "cell_type": "code",
   "metadata": {
    "colab": {
     "base_uri": "https://localhost:8080/"
    },
    "id": "dZ_4G4tQ7kbX",
    "outputId": "e21fa2f4-5e2b-4c48-89d7-3d8c99fbcc71",
    "ExecuteTime": {
     "end_time": "2024-09-11T03:46:03.473605Z",
     "start_time": "2024-09-11T03:46:03.464952Z"
    }
   },
   "source": [
    "print(names)"
   ],
   "outputs": [
    {
     "name": "stdout",
     "output_type": "stream",
     "text": [
      "[0.5, 3.14, 5, 6, 9, 'Trần T. Tùng', '']\n"
     ]
    }
   ],
   "execution_count": 11
  },
  {
   "cell_type": "code",
   "metadata": {
    "colab": {
     "base_uri": "https://localhost:8080/"
    },
    "id": "XB3L80d17kKO",
    "outputId": "0ef8a2a9-79cb-4141-a850-f5f48ef4a3b9",
    "ExecuteTime": {
     "end_time": "2024-09-11T03:46:01.512526Z",
     "start_time": "2024-09-11T03:46:01.504773Z"
    }
   },
   "source": [
    "len(names)"
   ],
   "outputs": [
    {
     "data": {
      "text/plain": [
       "7"
      ]
     },
     "execution_count": 10,
     "metadata": {},
     "output_type": "execute_result"
    }
   ],
   "execution_count": 10
  },
  {
   "cell_type": "code",
   "metadata": {
    "colab": {
     "base_uri": "https://localhost:8080/",
     "height": 166
    },
    "id": "DnYQp4Us7kCB",
    "outputId": "0149efde-112c-460b-a9a2-af1c35d950b6",
    "ExecuteTime": {
     "end_time": "2024-09-11T03:46:07.268059Z",
     "start_time": "2024-09-11T03:46:07.244991Z"
    }
   },
   "source": [
    "names[100]"
   ],
   "outputs": [
    {
     "ename": "IndexError",
     "evalue": "list index out of range",
     "output_type": "error",
     "traceback": [
      "\u001B[1;31m---------------------------------------------------------------------------\u001B[0m",
      "\u001B[1;31mIndexError\u001B[0m                                Traceback (most recent call last)",
      "Cell \u001B[1;32mIn[12], line 1\u001B[0m\n\u001B[1;32m----> 1\u001B[0m \u001B[43mnames\u001B[49m\u001B[43m[\u001B[49m\u001B[38;5;241;43m100\u001B[39;49m\u001B[43m]\u001B[49m\n",
      "\u001B[1;31mIndexError\u001B[0m: list index out of range"
     ]
    }
   ],
   "execution_count": 12
  },
  {
   "cell_type": "code",
   "metadata": {
    "colab": {
     "base_uri": "https://localhost:8080/",
     "height": 166
    },
    "id": "JuyB4TXz-zWu",
    "outputId": "3b460edd-a9bf-460f-dbb9-0b4277bb1ea7",
    "ExecuteTime": {
     "end_time": "2024-09-11T03:46:10.272972Z",
     "start_time": "2024-09-11T03:46:10.250035Z"
    }
   },
   "source": [
    "names[6.0]"
   ],
   "outputs": [
    {
     "ename": "TypeError",
     "evalue": "list indices must be integers or slices, not float",
     "output_type": "error",
     "traceback": [
      "\u001B[1;31m---------------------------------------------------------------------------\u001B[0m",
      "\u001B[1;31mTypeError\u001B[0m                                 Traceback (most recent call last)",
      "Cell \u001B[1;32mIn[13], line 1\u001B[0m\n\u001B[1;32m----> 1\u001B[0m \u001B[43mnames\u001B[49m\u001B[43m[\u001B[49m\u001B[38;5;241;43m6.0\u001B[39;49m\u001B[43m]\u001B[49m\n",
      "\u001B[1;31mTypeError\u001B[0m: list indices must be integers or slices, not float"
     ]
    }
   ],
   "execution_count": 13
  },
  {
   "cell_type": "code",
   "metadata": {
    "colab": {
     "base_uri": "https://localhost:8080/",
     "height": 35
    },
    "id": "rB73iiacD7NQ",
    "outputId": "6e20489f-8824-48ea-e2b2-8fbfa1a0d614",
    "ExecuteTime": {
     "end_time": "2024-09-11T03:46:13.303103Z",
     "start_time": "2024-09-11T03:46:13.285024Z"
    }
   },
   "source": [
    "names[-1]"
   ],
   "outputs": [
    {
     "data": {
      "text/plain": [
       "''"
      ]
     },
     "execution_count": 14,
     "metadata": {},
     "output_type": "execute_result"
    }
   ],
   "execution_count": 14
  },
  {
   "cell_type": "code",
   "metadata": {
    "colab": {
     "base_uri": "https://localhost:8080/",
     "height": 166
    },
    "id": "vzihnlncD7qH",
    "outputId": "c1c0b47f-f97e-4f46-9b45-2e23d387f6b2",
    "ExecuteTime": {
     "end_time": "2024-09-11T03:46:20.250655Z",
     "start_time": "2024-09-11T03:46:20.225112Z"
    }
   },
   "source": [
    "names[-8]"
   ],
   "outputs": [
    {
     "ename": "IndexError",
     "evalue": "list index out of range",
     "output_type": "error",
     "traceback": [
      "\u001B[1;31m---------------------------------------------------------------------------\u001B[0m",
      "\u001B[1;31mIndexError\u001B[0m                                Traceback (most recent call last)",
      "Cell \u001B[1;32mIn[15], line 1\u001B[0m\n\u001B[1;32m----> 1\u001B[0m \u001B[43mnames\u001B[49m\u001B[43m[\u001B[49m\u001B[38;5;241;43m-\u001B[39;49m\u001B[38;5;241;43m8\u001B[39;49m\u001B[43m]\u001B[49m\n",
      "\u001B[1;31mIndexError\u001B[0m: list index out of range"
     ]
    }
   ],
   "execution_count": 15
  },
  {
   "cell_type": "code",
   "metadata": {
    "colab": {
     "base_uri": "https://localhost:8080/"
    },
    "id": "26Jn3FsCD73g",
    "outputId": "6a9cb5b7-b485-489a-9a66-9403fd86175a",
    "ExecuteTime": {
     "end_time": "2024-09-11T03:46:24.498094Z",
     "start_time": "2024-09-11T03:46:24.487916Z"
    }
   },
   "source": [
    "type(names)"
   ],
   "outputs": [
    {
     "data": {
      "text/plain": [
       "list"
      ]
     },
     "execution_count": 16,
     "metadata": {},
     "output_type": "execute_result"
    }
   ],
   "execution_count": 16
  },
  {
   "cell_type": "code",
   "metadata": {
    "id": "ICEapXhxCUW4",
    "ExecuteTime": {
     "end_time": "2024-09-11T03:46:27.377251Z",
     "start_time": "2024-09-11T03:46:27.368042Z"
    }
   },
   "source": [
    "names = ['An', 'Binh', 'Chi', 'Dung']"
   ],
   "outputs": [],
   "execution_count": 17
  },
  {
   "cell_type": "code",
   "metadata": {
    "id": "-G1ed_B6CUaQ",
    "ExecuteTime": {
     "end_time": "2024-09-11T03:46:29.867515Z",
     "start_time": "2024-09-11T03:46:29.860605Z"
    }
   },
   "source": [
    "# 'Giang'\n",
    "names.append('Giang')"
   ],
   "outputs": [],
   "execution_count": 18
  },
  {
   "cell_type": "code",
   "metadata": {
    "colab": {
     "base_uri": "https://localhost:8080/"
    },
    "id": "mRInpqPdCUdz",
    "outputId": "648891d5-5c73-4bc0-cdaa-24c1720bb1e3",
    "ExecuteTime": {
     "end_time": "2024-09-11T03:46:32.052187Z",
     "start_time": "2024-09-11T03:46:32.044753Z"
    }
   },
   "source": [
    "print(names)"
   ],
   "outputs": [
    {
     "name": "stdout",
     "output_type": "stream",
     "text": [
      "['An', 'Binh', 'Chi', 'Dung', 'Giang']\n"
     ]
    }
   ],
   "execution_count": 19
  },
  {
   "cell_type": "code",
   "metadata": {
    "id": "sdTFrQHl_13l",
    "ExecuteTime": {
     "end_time": "2024-09-11T03:46:36.095168Z",
     "start_time": "2024-09-11T03:46:36.085976Z"
    }
   },
   "source": [
    "# tạo một nhóm bạn mới gồm 3 thành viên\n",
    "names2 = ['Minh', 'Tuấn', 'Thiện']"
   ],
   "outputs": [],
   "execution_count": 20
  },
  {
   "cell_type": "code",
   "metadata": {
    "id": "UP82bghk_2E7",
    "ExecuteTime": {
     "end_time": "2024-09-11T03:46:42.474100Z",
     "start_time": "2024-09-11T03:46:42.465023Z"
    }
   },
   "source": [
    "names.extend(names2)"
   ],
   "outputs": [],
   "execution_count": 21
  },
  {
   "cell_type": "code",
   "metadata": {
    "colab": {
     "base_uri": "https://localhost:8080/"
    },
    "id": "LSa6p0Cb_2Qi",
    "outputId": "874898b9-d2c7-40c6-f092-b4dbd8a18ee6",
    "ExecuteTime": {
     "end_time": "2024-09-11T03:46:44.309681Z",
     "start_time": "2024-09-11T03:46:44.298556Z"
    }
   },
   "source": [
    "names"
   ],
   "outputs": [
    {
     "data": {
      "text/plain": [
       "['An', 'Binh', 'Chi', 'Dung', 'Giang', 'Minh', 'Tuấn', 'Thiện']"
      ]
     },
     "execution_count": 22,
     "metadata": {},
     "output_type": "execute_result"
    }
   ],
   "execution_count": 22
  },
  {
   "cell_type": "code",
   "execution_count": null,
   "metadata": {
    "id": "NniaZn2m_2ac"
   },
   "outputs": [],
   "source": [
    "# immutable: int, float\n",
    "# mutable: list"
   ]
  },
  {
   "cell_type": "code",
   "execution_count": null,
   "metadata": {
    "id": "Xy6It7xT_2mE"
   },
   "outputs": [],
   "source": [
    "tupleValues = (1, 2, 3, 4, 5)"
   ]
  },
  {
   "cell_type": "code",
   "execution_count": null,
   "metadata": {
    "colab": {
     "base_uri": "https://localhost:8080/"
    },
    "id": "bCOcOyKT_2yc",
    "outputId": "bbd5a32f-3da6-467f-cd6a-78934709f08f"
   },
   "outputs": [],
   "source": [
    "len(tupleValues)"
   ]
  },
  {
   "cell_type": "code",
   "execution_count": null,
   "metadata": {
    "colab": {
     "base_uri": "https://localhost:8080/"
    },
    "id": "kN-LL37W_293",
    "outputId": "07c51eec-ece8-40fe-e631-71f007fff40d"
   },
   "outputs": [],
   "source": [
    "tupleValues[-1]"
   ]
  },
  {
   "cell_type": "code",
   "metadata": {
    "colab": {
     "base_uri": "https://localhost:8080/",
     "height": 166
    },
    "id": "qlYUAtbS_3Ih",
    "outputId": "663b40b4-42df-4a0a-e64d-a7b92cd5af26",
    "ExecuteTime": {
     "end_time": "2024-09-10T15:10:34.064525Z",
     "start_time": "2024-09-10T15:10:33.534961Z"
    }
   },
   "source": [
    "tupleValues.append(1000)"
   ],
   "outputs": [
    {
     "ename": "NameError",
     "evalue": "name 'tupleValues' is not defined",
     "output_type": "error",
     "traceback": [
      "\u001B[1;31m---------------------------------------------------------------------------\u001B[0m",
      "\u001B[1;31mNameError\u001B[0m                                 Traceback (most recent call last)",
      "Cell \u001B[1;32mIn[1], line 1\u001B[0m\n\u001B[1;32m----> 1\u001B[0m \u001B[43mtupleValues\u001B[49m\u001B[38;5;241m.\u001B[39mappend(\u001B[38;5;241m1000\u001B[39m)\n",
      "\u001B[1;31mNameError\u001B[0m: name 'tupleValues' is not defined"
     ]
    }
   ],
   "execution_count": 1
  },
  {
   "cell_type": "markdown",
   "metadata": {
    "id": "QybRNeP9vbFn"
   },
   "source": [
    "## set & dictionary"
   ]
  },
  {
   "cell_type": "code",
   "metadata": {
    "id": "uUHjKTTiDgkc",
    "ExecuteTime": {
     "end_time": "2024-09-11T04:02:42.702982Z",
     "start_time": "2024-09-11T04:02:42.688053Z"
    }
   },
   "source": [
    "mySet = {4, 5, 6, 7, 8}"
   ],
   "outputs": [],
   "execution_count": 23
  },
  {
   "cell_type": "code",
   "metadata": {
    "colab": {
     "base_uri": "https://localhost:8080/"
    },
    "id": "jDWYO8o0Dgrr",
    "outputId": "8c97a589-f98a-4279-ae9c-038901f8c711",
    "ExecuteTime": {
     "end_time": "2024-09-11T04:02:45.234235Z",
     "start_time": "2024-09-11T04:02:45.217685Z"
    }
   },
   "source": [
    "len(mySet)"
   ],
   "outputs": [
    {
     "data": {
      "text/plain": [
       "5"
      ]
     },
     "execution_count": 24,
     "metadata": {},
     "output_type": "execute_result"
    }
   ],
   "execution_count": 24
  },
  {
   "cell_type": "code",
   "metadata": {
    "colab": {
     "base_uri": "https://localhost:8080/",
     "height": 166
    },
    "id": "ro3oJuTUBxT3",
    "outputId": "5db639ca-9b42-41c9-f913-fb0d7f21acbd",
    "ExecuteTime": {
     "end_time": "2024-09-11T04:02:47.239642Z",
     "start_time": "2024-09-11T04:02:47.217931Z"
    }
   },
   "source": [
    "mySet[0]"
   ],
   "outputs": [
    {
     "ename": "TypeError",
     "evalue": "'set' object is not subscriptable",
     "output_type": "error",
     "traceback": [
      "\u001B[1;31m---------------------------------------------------------------------------\u001B[0m",
      "\u001B[1;31mTypeError\u001B[0m                                 Traceback (most recent call last)",
      "Cell \u001B[1;32mIn[25], line 1\u001B[0m\n\u001B[1;32m----> 1\u001B[0m \u001B[43mmySet\u001B[49m\u001B[43m[\u001B[49m\u001B[38;5;241;43m0\u001B[39;49m\u001B[43m]\u001B[49m\n",
      "\u001B[1;31mTypeError\u001B[0m: 'set' object is not subscriptable"
     ]
    }
   ],
   "execution_count": 25
  },
  {
   "cell_type": "code",
   "metadata": {
    "colab": {
     "base_uri": "https://localhost:8080/"
    },
    "id": "pkaTIotlHmM5",
    "outputId": "696b3ede-c087-45d2-abc6-eabb39a92278",
    "ExecuteTime": {
     "end_time": "2024-09-11T04:02:50.772127Z",
     "start_time": "2024-09-11T04:02:50.758084Z"
    }
   },
   "source": [
    "myNewSet = {1, 3, 3, 3, 5, 6, 7}\n",
    "len(myNewSet)"
   ],
   "outputs": [
    {
     "data": {
      "text/plain": [
       "5"
      ]
     },
     "execution_count": 26,
     "metadata": {},
     "output_type": "execute_result"
    }
   ],
   "execution_count": 26
  },
  {
   "cell_type": "code",
   "execution_count": null,
   "metadata": {
    "id": "vsz6mNlrHmhR"
   },
   "outputs": [],
   "source": [
    "# intersection, union, difference"
   ]
  },
  {
   "cell_type": "code",
   "metadata": {
    "colab": {
     "base_uri": "https://localhost:8080/"
    },
    "id": "qWlrexrlHmrt",
    "outputId": "c7f83e0f-98ca-40dc-efb1-c59cc120ebf4",
    "ExecuteTime": {
     "end_time": "2024-09-11T04:04:43.072870Z",
     "start_time": "2024-09-11T04:04:43.065322Z"
    }
   },
   "source": [
    "\n",
    "\n",
    "### Dictionary, (key, value) pairs\n",
    "personalInfo = {'name': 'Hoa Nguyen Thi', 'age': 20, 'ID': '20013696'}\n",
    "# personalInfo = {'name': 'Hoa Nguyen Thi', 'age': 20, 'ID': '0013696'}\n",
    "type(personalInfo)"
   ],
   "outputs": [
    {
     "data": {
      "text/plain": [
       "dict"
      ]
     },
     "execution_count": 27,
     "metadata": {},
     "output_type": "execute_result"
    }
   ],
   "execution_count": 27
  },
  {
   "cell_type": "code",
   "metadata": {
    "colab": {
     "base_uri": "https://localhost:8080/"
    },
    "id": "lCwk-QaSHm2A",
    "outputId": "a61ceeb1-735a-487d-849f-cfc2a1b97983",
    "ExecuteTime": {
     "end_time": "2024-09-11T04:04:50.338541Z",
     "start_time": "2024-09-11T04:04:50.328162Z"
    }
   },
   "source": [
    "print(personalInfo)"
   ],
   "outputs": [
    {
     "name": "stdout",
     "output_type": "stream",
     "text": [
      "{'name': 'Hoa Nguyen Thi', 'age': 20, 'ID': '20013696'}\n"
     ]
    }
   ],
   "execution_count": 28
  },
  {
   "cell_type": "code",
   "execution_count": null,
   "metadata": {
    "id": "m24RLfTNHnAn"
   },
   "outputs": [],
   "source": [
    "personalInfo['dateOfBirth'] = '23023022'"
   ]
  },
  {
   "cell_type": "code",
   "execution_count": null,
   "metadata": {
    "colab": {
     "base_uri": "https://localhost:8080/"
    },
    "id": "cD4tQFVZBxlU",
    "outputId": "2f870c2a-9799-4290-fee9-c8d56d7a2d1a"
   },
   "outputs": [],
   "source": [
    "personalInfo"
   ]
  },
  {
   "cell_type": "code",
   "execution_count": null,
   "metadata": {
    "colab": {
     "base_uri": "https://localhost:8080/"
    },
    "id": "VumVWgdwLCZa",
    "outputId": "32aebce6-fbce-49e2-9d22-f6a5f5b4dcf3"
   },
   "outputs": [],
   "source": [
    "print(personalInfo['age'])"
   ]
  },
  {
   "cell_type": "code",
   "execution_count": null,
   "metadata": {
    "colab": {
     "base_uri": "https://localhost:8080/",
     "height": 166
    },
    "id": "BI0puY7fLCkF",
    "outputId": "ac345510-5755-407d-c5f5-614d6295e507"
   },
   "outputs": [],
   "source": [
    "print(personalInfo['tuoi'])"
   ]
  },
  {
   "cell_type": "markdown",
   "metadata": {
    "id": "fbG7IEvTvoj6"
   },
   "source": [
    "## boolean"
   ]
  },
  {
   "cell_type": "code",
   "execution_count": null,
   "metadata": {
    "colab": {
     "base_uri": "https://localhost:8080/"
    },
    "id": "-qAe25JfLCtE",
    "outputId": "2e5ec68c-14f1-484f-e846-10002a7ad71b"
   },
   "outputs": [],
   "source": [
    "x = True\n",
    "y = False\n",
    "x and y\n",
    "x or y\n",
    "not x\n"
   ]
  },
  {
   "cell_type": "markdown",
   "metadata": {
    "id": "bbtHslL3vuUe"
   },
   "source": [
    "## function (hàm)"
   ]
  },
  {
   "cell_type": "code",
   "execution_count": null,
   "metadata": {
    "id": "iQHBumaDNYYF"
   },
   "outputs": [],
   "source": [
    "def sayHello():\n",
    "    print('say hello inside the function')\n"
   ]
  },
  {
   "cell_type": "code",
   "execution_count": null,
   "metadata": {
    "colab": {
     "base_uri": "https://localhost:8080/"
    },
    "id": "l7XcTmm9NYj2",
    "outputId": "17613a7c-a7a8-411a-e172-308a35ea9758"
   },
   "outputs": [],
   "source": [
    "print('say hello outside the function')\n",
    "sayHello()\n",
    "print('say hello outside the function')"
   ]
  },
  {
   "cell_type": "code",
   "execution_count": null,
   "metadata": {
    "id": "C4T3aNKKNYxB"
   },
   "outputs": [],
   "source": [
    "# tính diện tích hình chứ nhật\n",
    "def calculateArea(length, width):\n",
    "    area = length * width\n",
    "    return area"
   ]
  },
  {
   "cell_type": "code",
   "execution_count": null,
   "metadata": {
    "colab": {
     "base_uri": "https://localhost:8080/",
     "height": 166
    },
    "id": "oUpUgSx8NZC_",
    "outputId": "946ba3c4-c5b7-4cc6-dfb7-acab30829810"
   },
   "outputs": [],
   "source": [
    "calculateArea()"
   ]
  },
  {
   "cell_type": "code",
   "execution_count": null,
   "metadata": {
    "colab": {
     "base_uri": "https://localhost:8080/"
    },
    "id": "decGoec4NZSN",
    "outputId": "75ba6dc0-6722-4045-8014-fd7700d598bb"
   },
   "outputs": [],
   "source": [
    "calculateArea(10, 3)"
   ]
  },
  {
   "cell_type": "code",
   "execution_count": null,
   "metadata": {
    "id": "J95bpP6nLC93"
   },
   "outputs": [],
   "source": []
  },
  {
   "cell_type": "code",
   "execution_count": null,
   "metadata": {
    "colab": {
     "base_uri": "https://localhost:8080/"
    },
    "id": "W63-OyCwAMJ3",
    "outputId": "16f67f96-eff6-4b3b-8390-bd7472a1482d"
   },
   "outputs": [],
   "source": [
    "print('Hello world') # huaquanghuy\n",
    "foo = 1\n",
    "bar = 4\n",
    "print(foo + bar)\n"
   ]
  },
  {
   "cell_type": "code",
   "execution_count": null,
   "metadata": {
    "colab": {
     "base_uri": "https://localhost:8080/"
    },
    "id": "UUHE0ImKHvmK",
    "outputId": "b40830a4-5167-4e3a-a681-5e9b0bd9a635"
   },
   "outputs": [],
   "source": [
    "currentYear = 2024\n",
    "yearBorn = 2001\n",
    "age = currentYear - yearBorn\n",
    "\n",
    "# print('i am 23 years old') Đăng Khánh Bản\n",
    "# print(age) # Hao Pham The\n",
    "\n",
    "# print(f\"I'm {age} years old!\") # Bui Khanh Duy      C1\n",
    "print(f\"I'm {currentYear - yearBorn} years old!\") #      C1.new\n",
    "# print(\"I'm 23 years old\")\n",
    "# print(\"i'm \",age,\"years old\")\n"
   ]
  },
  {
   "cell_type": "code",
   "execution_count": 3,
   "metadata": {
    "id": "B7nTI6Xw5nkL"
   },
   "outputs": [
    {
     "name": "stdout",
     "output_type": "stream",
     "text": [
      "Hello Rek'sai!\n",
      "Hello Rek'sai!\n"
     ]
    }
   ],
   "source": [
    "# print('Hello World!')\n",
    "# print(\"HellRo Kitty!\") # Kitty là ..., press Ctrl+Enter, bất cứ thứ gì\n",
    "\n",
    "# Rek'sal\n",
    "print(\"Hello Rek'sai!\")\n",
    "print('Hello Rek\\'sai!')"
   ]
  },
  {
   "cell_type": "code",
   "execution_count": 4,
   "metadata": {
    "colab": {
     "base_uri": "https://localhost:8080/"
    },
    "id": "TFE58X5RK91n",
    "outputId": "79f1615d-b7be-4f81-da2b-2aa7d7f62181"
   },
   "outputs": [
    {
     "data": {
      "text/plain": [
       "(17, 6)"
      ]
     },
     "execution_count": 4,
     "metadata": {},
     "output_type": "execute_result"
    }
   ],
   "source": [
    "\n",
    "divmod(125, 7)"
   ]
  },
  {
   "cell_type": "markdown",
   "metadata": {
    "id": "VosbJME5I76O"
   },
   "source": [
    "## Kiểu dữ liệu"
   ]
  },
  {
   "cell_type": "code",
   "execution_count": null,
   "metadata": {
    "colab": {
     "base_uri": "https://localhost:8080/"
    },
    "id": "clFaN6NuHxKJ",
    "outputId": "9b8e4e83-1c68-4be9-b2c6-7a79a2e2a8ea"
   },
   "outputs": [],
   "source": [
    "currentYear = -2020\n",
    "type(currentYear) # int: integer"
   ]
  },
  {
   "cell_type": "code",
   "execution_count": null,
   "metadata": {
    "colab": {
     "base_uri": "https://localhost:8080/"
    },
    "id": "0wbK3e8dHyI_",
    "outputId": "5aea5cf8-2090-419f-c970-e462e64d0970"
   },
   "outputs": [],
   "source": [
    "aa = 1.618\n",
    "type(aa) # float"
   ]
  },
  {
   "cell_type": "code",
   "execution_count": null,
   "metadata": {
    "colab": {
     "base_uri": "https://localhost:8080/"
    },
    "id": "juDp1jo-NCBC",
    "outputId": "9ff7bb04-2d82-432c-a8e9-db6a8cac6102"
   },
   "outputs": [],
   "source": [
    "aa = 1 + 2j\n",
    "print(type(aa))"
   ]
  },
  {
   "cell_type": "code",
   "execution_count": null,
   "metadata": {
    "colab": {
     "base_uri": "https://localhost:8080/"
    },
    "id": "TCimh0gONZRU",
    "outputId": "08d052dd-9f77-4e83-c676-3e89ec2677d7"
   },
   "outputs": [],
   "source": [
    "aa = 'antic'\n",
    "print(type(aa))"
   ]
  },
  {
   "cell_type": "code",
   "execution_count": null,
   "metadata": {
    "colab": {
     "base_uri": "https://localhost:8080/"
    },
    "id": "QHisDS_ANGRK",
    "outputId": "514eafc9-4d55-4966-b388-46659eef8091"
   },
   "outputs": [],
   "source": [
    "## list\n",
    "myList = [1, 2, 3, 4.0, 'helloWorld', [8, 9, 10], 1, 2, 3]\n",
    "print(myList)\n",
    "print(len(myList))"
   ]
  },
  {
   "cell_type": "code",
   "execution_count": null,
   "metadata": {
    "colab": {
     "base_uri": "https://localhost:8080/"
    },
    "id": "gOC0su0tN_9d",
    "outputId": "6d21ee4d-c2b1-4a5d-9efc-6cac00848423"
   },
   "outputs": [],
   "source": [
    "myList = []\n",
    "print(myList)\n",
    "myList.append(1)\n",
    "print(myList)\n",
    "myList.append(1)\n",
    "print(myList)"
   ]
  },
  {
   "cell_type": "code",
   "execution_count": null,
   "metadata": {
    "colab": {
     "base_uri": "https://localhost:8080/"
    },
    "id": "wJLplcwjNfP-",
    "outputId": "0d959923-636d-4e1a-9ec6-373291680b97"
   },
   "outputs": [],
   "source": [
    "# sum of the elements in the list\n",
    "myList = [3, 4, 5, 6]\n",
    "sum(myList)"
   ]
  },
  {
   "cell_type": "code",
   "execution_count": null,
   "metadata": {
    "id": "2MEG6_mi3vTh"
   },
   "outputs": [],
   "source": [
    "myList = []\n",
    "myList = [123, 14.5, 'abcd', [1, 2, 3], 12, 34]\n",
    "newList = [1, 1.4, 'hello', True, [], int] # Phuong Pham Thanh"
   ]
  },
  {
   "cell_type": "code",
   "execution_count": null,
   "metadata": {
    "colab": {
     "base_uri": "https://localhost:8080/"
    },
    "id": "mZSA3tSU3vdJ",
    "outputId": "b6f57423-55e7-4182-a182-a3469b54d836"
   },
   "outputs": [],
   "source": [
    "len(myList)"
   ]
  },
  {
   "cell_type": "code",
   "execution_count": null,
   "metadata": {
    "colab": {
     "base_uri": "https://localhost:8080/"
    },
    "id": "kCbG-_-n3vml",
    "outputId": "4ef86978-9a30-4410-af27-27361f41a83b"
   },
   "outputs": [],
   "source": [
    "# tru cập phần tử đầu tiên\n",
    "myList[0]"
   ]
  },
  {
   "cell_type": "code",
   "execution_count": null,
   "metadata": {
    "colab": {
     "base_uri": "https://localhost:8080/"
    },
    "id": "y8-g67Qe1rQ1",
    "outputId": "de090db7-b981-4c93-839e-f0847bc39680"
   },
   "outputs": [],
   "source": [
    "# truy cập phần tử cuối cùng\n",
    "# myList[len(myList)-1]\n",
    "myList[-1]"
   ]
  },
  {
   "cell_type": "code",
   "execution_count": null,
   "metadata": {
    "colab": {
     "base_uri": "https://localhost:8080/",
     "height": 166
    },
    "id": "9JugoEcc5lOY",
    "outputId": "6d28c06e-9e33-4a74-cf23-2d205654b405"
   },
   "outputs": [],
   "source": [
    "myList[6]"
   ]
  },
  {
   "cell_type": "code",
   "execution_count": null,
   "metadata": {
    "colab": {
     "base_uri": "https://localhost:8080/"
    },
    "id": "06teGLER5vAn",
    "outputId": "bd7b2855-3521-4ff2-ade4-bf8e45abd55e"
   },
   "outputs": [],
   "source": [
    "# bổ sung thêm phần tử \"ToiUuHoa\" vào cuối list này\n",
    "myList.append(\"ToiUuHoa\") #Hoang Minh Tuan\n",
    "print(myList)"
   ]
  },
  {
   "cell_type": "code",
   "execution_count": null,
   "metadata": {
    "colab": {
     "base_uri": "https://localhost:8080/"
    },
    "id": "-U47AgoE5vKA",
    "outputId": "e9ebf019-c913-4ede-cf91-0eeb15d9ea91"
   },
   "outputs": [],
   "source": [
    "# bố sung ba phần tử vào cuối list\n",
    "additionalList = ['a', 'b', 'c']\n",
    "myList = myList + additionalList\n",
    "print(myList)"
   ]
  },
  {
   "cell_type": "code",
   "execution_count": null,
   "metadata": {
    "colab": {
     "base_uri": "https://localhost:8080/"
    },
    "id": "WMYiSUHQ5vT9",
    "outputId": "e8fc98f6-aec8-4f16-dfd2-c6a07df98f00"
   },
   "outputs": [],
   "source": [
    "# bố sung ba phần tử vào cuối list\n",
    "myList = [123, 14.5, 'abcd', [1, 2, 3], 12, 34]\n",
    "additionalList = ['a', 'b', 'c']\n",
    "myList.extend(additionalList)\n",
    "print(myList)"
   ]
  },
  {
   "cell_type": "code",
   "execution_count": null,
   "metadata": {
    "colab": {
     "base_uri": "https://localhost:8080/"
    },
    "id": "kiL-2mbi5vZR",
    "outputId": "011b57fd-b84e-4242-a8ed-1cdcaf1d6472"
   },
   "outputs": [],
   "source": [
    "myList[0] = 123456789\n",
    "print(myList)"
   ]
  },
  {
   "cell_type": "code",
   "execution_count": null,
   "metadata": {
    "colab": {
     "base_uri": "https://localhost:8080/"
    },
    "id": "vMpF1mbt1rb6",
    "outputId": "a1e67ef8-3dfa-49a5-ae9c-b404b7a47bdf"
   },
   "outputs": [],
   "source": [
    "### tuple\n",
    "myTuple = (123, 14.5, 'abcd', [1, 2, 3], (1, 2, 3), True, False)\n",
    "tuple1 = (\"abc\", 34, True, 40, \"male\")\n",
    "print(tuple1)"
   ]
  },
  {
   "cell_type": "code",
   "execution_count": null,
   "metadata": {
    "colab": {
     "base_uri": "https://localhost:8080/",
     "height": 183
    },
    "id": "EqznGi1_7yLN",
    "outputId": "1a96b1bc-c16e-43a8-dd65-3984cc7ecc96"
   },
   "outputs": [],
   "source": [
    "# myTuple.append('Hua Quang Huy')\n",
    "myTuple[0] = 'Hua Quang Huy'"
   ]
  },
  {
   "cell_type": "code",
   "execution_count": null,
   "metadata": {
    "colab": {
     "base_uri": "https://localhost:8080/"
    },
    "id": "5MmVQkJM7yRk",
    "outputId": "59d05ce5-f95e-47fd-e81d-ad5e247deb61"
   },
   "outputs": [],
   "source": [
    "myTuple = ('a', 'b', 'c', 'd', 'e', 'f', 'g')\n",
    "# slicing\n",
    "myTuple[1:5] # (b, c, d, e)\n",
    "myTuple[0:5] # (a, b, c, d, e)\n",
    "\n",
    "print(myTuple[0::2]) # (a, c, e, g)\n",
    "print(myTuple[::2]) # (a, c, e, g)"
   ]
  },
  {
   "cell_type": "code",
   "execution_count": null,
   "metadata": {
    "colab": {
     "base_uri": "https://localhost:8080/"
    },
    "id": "eKUhbPl97ya6",
    "outputId": "a9724174-e25e-48c4-924e-46c2235893b5"
   },
   "outputs": [],
   "source": [
    "# range\n",
    "list(range(10)) # 0 --> 9"
   ]
  },
  {
   "cell_type": "code",
   "execution_count": null,
   "metadata": {
    "colab": {
     "base_uri": "https://localhost:8080/"
    },
    "id": "K_CmBu9g7yip",
    "outputId": "774c2b48-12d2-42f2-d99f-721b52124e62"
   },
   "outputs": [],
   "source": [
    "# 0, 1, 2, 3, ..., 100\n",
    "list(range(21))"
   ]
  },
  {
   "cell_type": "code",
   "execution_count": null,
   "metadata": {
    "colab": {
     "base_uri": "https://localhost:8080/"
    },
    "id": "MGx5-jrt7ysJ",
    "outputId": "daae76cf-5ddb-41b1-9cc9-aad24028af8e"
   },
   "outputs": [],
   "source": [
    "# 5, 6, 7, ..., 20\n",
    "list(range(5,21)) #Hoang Minh Tuan"
   ]
  },
  {
   "cell_type": "code",
   "execution_count": null,
   "metadata": {
    "colab": {
     "base_uri": "https://localhost:8080/"
    },
    "id": "OR5NrXLn1rkG",
    "outputId": "740eb19f-1b71-4ae1-a087-f7d223797fbb"
   },
   "outputs": [],
   "source": [
    "# 5, 7, 9, ..., 19\n",
    "list(range(5,21,2))\n",
    "list(range(5,20,2)) #Hoang Minh Tuan"
   ]
  },
  {
   "cell_type": "code",
   "execution_count": null,
   "metadata": {
    "colab": {
     "base_uri": "https://localhost:8080/"
    },
    "id": "JfAYm9Mh1rsR",
    "outputId": "b7e1c029-82cf-4ed2-ba0d-bc27c4fd75ff"
   },
   "outputs": [],
   "source": [
    "# 19, 17, 15, ..., 5        !!!\n",
    "print(list(range(19,5,-2))) # Thắng Phạm Bá\n",
    "print(list(range(19,4,-2))) # Hứa Quang Huy\n",
    "print(list(range(19,3,-2))) # Phuong Pham Thanh\n",
    "print(list(reversed(range(5, 20, 2)))) # advanced\n",
    "print(list(range(5, 20, 2))[::-1]) # Dang Quy Anh"
   ]
  },
  {
   "cell_type": "code",
   "execution_count": null,
   "metadata": {
    "colab": {
     "base_uri": "https://localhost:8080/"
    },
    "id": "UrCgwXuo1r2t",
    "outputId": "9136f256-4f49-4462-fe13-ca35a045b728"
   },
   "outputs": [],
   "source": [
    "# list(range(0, 20, -5)) # list rỗng\n",
    "list(range(0, 20, 1))"
   ]
  },
  {
   "cell_type": "code",
   "execution_count": null,
   "metadata": {
    "id": "CjQqtsxR1r-H"
   },
   "outputs": [],
   "source": [
    "### string"
   ]
  },
  {
   "cell_type": "code",
   "execution_count": null,
   "metadata": {
    "colab": {
     "base_uri": "https://localhost:8080/"
    },
    "id": "kZQoS1nC1sHh",
    "outputId": "2b8f639e-5e21-4cef-b22a-44a4f4c18b25"
   },
   "outputs": [],
   "source": [
    "strA = 'Tung'\n",
    "strB = \"Tung\"\n",
    "\n",
    "# print(strA * 3)\n",
    "print(len(strA))"
   ]
  },
  {
   "cell_type": "code",
   "execution_count": null,
   "metadata": {
    "colab": {
     "base_uri": "https://localhost:8080/"
    },
    "id": "3z44BWpa1sPa",
    "outputId": "ec117ff9-c1ea-4e1d-8276-1ff87e16138a"
   },
   "outputs": [],
   "source": [
    "# set\n",
    "# yourSet = {1, 2, 3, 4, 5}\n",
    "# print(yourSet)\n",
    "yourSet = {12, \"h\", 23.3, (3, 5), True, int} #phung thi thu an\n",
    "mySet = {3, 5, 7, 9, True,5 , 9, 0, False, 1}\n",
    "print(yourSet)\n",
    "print(mySet)"
   ]
  },
  {
   "cell_type": "code",
   "execution_count": null,
   "metadata": {
    "id": "Efgmc8LJ1sXy"
   },
   "outputs": [],
   "source": [
    "# fooSet = {1, 2, 3, 4, [1, 3]} # lỗi"
   ]
  },
  {
   "cell_type": "code",
   "execution_count": null,
   "metadata": {
    "colab": {
     "base_uri": "https://localhost:8080/"
    },
    "id": "VPpCWNhB1sgc",
    "outputId": "f7ea766f-0e07-4304-d962-edd38deb207a"
   },
   "outputs": [],
   "source": [
    "# giao, hợp, trừ\n",
    "setA = {1, 2, 3, 4}\n",
    "setB = {3, 4, 5, 6}\n",
    "\n",
    "# setA.intersection(setB) # giao\n",
    "print(setA.intersection(setB)) # giao\n",
    "print(setA.difference(setB)) # hieu\n",
    "print(setA.union(setB)) # hop\n",
    "\n",
    "# setA. # add() and update()"
   ]
  },
  {
   "cell_type": "code",
   "execution_count": null,
   "metadata": {
    "colab": {
     "base_uri": "https://localhost:8080/"
    },
    "id": "kGZzt_lG1so9",
    "outputId": "c7c4fac8-cfb6-44b5-fc5c-f478044fe9a2"
   },
   "outputs": [],
   "source": [
    "# setA = {1, 2, 3, 4, 5, 1, 2, 3, 4, 5}\n",
    "# print(setA)\n",
    "\n",
    "# yêu cầu: in ra danh sách các lớp phân biệt có trong classesList\n",
    "classesList = ['K64 Toan Tin', 'K64 Su Pham Toan', 'K64 Toan Tin', 'K64 Toan Tin', 'K64 Su Pham Toan']\n",
    "print(set(classesList))"
   ]
  },
  {
   "cell_type": "code",
   "execution_count": null,
   "metadata": {
    "colab": {
     "base_uri": "https://localhost:8080/"
    },
    "id": "RJFCLTt51sxx",
    "outputId": "abfd4fb3-d63a-4f6d-9a38-377f5b4231f7"
   },
   "outputs": [],
   "source": [
    "# dictionary - key & value\n",
    "# age, tall --> height, sex --> gender\n",
    "personalInfoDict = {'age': 21, 'height': 175, 'gender': 'Female', 123456: 789}\n",
    "print(personalInfoDict)\n",
    "\n",
    "# nếu muốn lưu điểm số của một sinh viên cho các môn học, thì key là gì? value là gì?\n",
    "# key: tên môn học, kiểu string\n",
    "# value: điểm thang 10, kiểu float\n",
    "\n",
    "# các ví dụ khác\n",
    "# Trần Thanh Tùng.\n",
    "# characterInfo\n",
    "# key: tên nhân vật, kiểu string, ví dụ: name, health, mana\n",
    "# value: tên thực sự, kiểu string, ví đụ.\n",
    "championInfo = {'name': 'Yone'}\n",
    "\n",
    "# mô tả xe hơi (Huy)\n",
    "carInfo = {'branch': 'Ford', 'model': 'Everest', 'year': 2020}\n",
    "\n",
    "# Nguyen Thi Phuong\n",
    "employeeDict = {'name': 'NguyenThiPhuong', 'id': '0xn23y3s', 'salary': 123456789}"
   ]
  },
  {
   "cell_type": "code",
   "execution_count": null,
   "metadata": {
    "colab": {
     "base_uri": "https://localhost:8080/",
     "height": 35
    },
    "id": "6Ny63LUo1s6O",
    "outputId": "dea909e7-c7f3-434c-bb31-76c2b894ad6c"
   },
   "outputs": [],
   "source": [
    "employeeDict['name']"
   ]
  },
  {
   "cell_type": "code",
   "execution_count": null,
   "metadata": {
    "colab": {
     "base_uri": "https://localhost:8080/"
    },
    "id": "TIFlzBztMcVC",
    "outputId": "01d0135e-5dbc-4d3a-a478-e26f9662eefa"
   },
   "outputs": [],
   "source": [
    "# employeeDict['tenNhanVien'] # error\n",
    "employeeDict['id'] = 'newId'\n",
    "print(employeeDict)"
   ]
  },
  {
   "cell_type": "code",
   "execution_count": null,
   "metadata": {
    "id": "FGDu6K7SMccw"
   },
   "outputs": [],
   "source": [
    "# tăng lương hiện tại của nhân viên lên 10 lần\n",
    "employeeDict['salary'] *= 10"
   ]
  },
  {
   "cell_type": "code",
   "execution_count": null,
   "metadata": {
    "colab": {
     "base_uri": "https://localhost:8080/"
    },
    "id": "lU6K9GuiMclP",
    "outputId": "7826e325-9564-44ce-84f2-0002cf71986e"
   },
   "outputs": [],
   "source": [
    "print(employeeDict)"
   ]
  },
  {
   "cell_type": "code",
   "execution_count": null,
   "metadata": {
    "colab": {
     "base_uri": "https://localhost:8080/"
    },
    "id": "x34Hi3QgMcsR",
    "outputId": "8035de4c-8cb9-44c6-8174-7f3eac384512"
   },
   "outputs": [],
   "source": [
    "# boolean   True & False\n",
    "# 5 >= 5\n",
    "# 1 > 5\n",
    "\n",
    "# True and False\n",
    "# True or False\n",
    "# not True"
   ]
  },
  {
   "cell_type": "code",
   "execution_count": null,
   "metadata": {
    "id": "29u33doBMcze"
   },
   "outputs": [],
   "source": [
    "# function\n",
    "\n",
    "def doSomething():\n",
    "    print('Hello World')\n",
    "    print('Toi Uu Hoa')"
   ]
  },
  {
   "cell_type": "code",
   "execution_count": null,
   "metadata": {
    "colab": {
     "base_uri": "https://localhost:8080/"
    },
    "id": "LRVFUyPAMc69",
    "outputId": "b3489346-7cc3-4d31-ef62-58ca96034d57"
   },
   "outputs": [],
   "source": [
    "doSomething()"
   ]
  },
  {
   "cell_type": "code",
   "execution_count": null,
   "metadata": {
    "colab": {
     "base_uri": "https://localhost:8080/"
    },
    "id": "d9tXsOYkMdCn",
    "outputId": "e3a80f56-ff12-4f60-e671-cdebf9c67b35"
   },
   "outputs": [],
   "source": [
    "doSomething()"
   ]
  },
  {
   "cell_type": "code",
   "execution_count": null,
   "metadata": {
    "id": "_U__FZYXMdIv"
   },
   "outputs": [],
   "source": []
  },
  {
   "cell_type": "code",
   "execution_count": null,
   "metadata": {
    "id": "SDwFyRzDOqfI"
   },
   "outputs": [],
   "source": [
    "myList = [1, 2, 3, 3.14, \"Nhat Minh\"]"
   ]
  },
  {
   "cell_type": "code",
   "execution_count": null,
   "metadata": {
    "colab": {
     "base_uri": "https://localhost:8080/"
    },
    "id": "0hp8WtXXOq-X",
    "outputId": "96de42ca-a500-478a-d034-10c81c9dfb1d"
   },
   "outputs": [],
   "source": [
    "len(myList)"
   ]
  },
  {
   "cell_type": "code",
   "execution_count": null,
   "metadata": {
    "id": "luYC9zYgOrOs"
   },
   "outputs": [],
   "source": [
    "# myList[-6"
   ]
  },
  {
   "cell_type": "code",
   "execution_count": null,
   "metadata": {
    "id": "UjlN1bOrQHOa"
   },
   "outputs": [],
   "source": [
    "myList.append(\"Hoan\")"
   ]
  },
  {
   "cell_type": "code",
   "execution_count": null,
   "metadata": {
    "colab": {
     "base_uri": "https://localhost:8080/"
    },
    "id": "hQBAomv-QHbd",
    "outputId": "64f9f82e-eb03-41b6-f235-465182b6db13"
   },
   "outputs": [],
   "source": [
    "myList"
   ]
  },
  {
   "cell_type": "code",
   "execution_count": null,
   "metadata": {
    "id": "IVSCQ-f-QHlE"
   },
   "outputs": [],
   "source": [
    "myList = [1, 2, 3, 3.14, \"Nhat Minh\"]\n",
    "otherNames = ['Tai', 'Hung']\n",
    "\n",
    "# myList.extend(otherNames) # method 1\n",
    "# myList = myList + otherNames # method 2\n",
    "myList += otherNames # method 3"
   ]
  },
  {
   "cell_type": "code",
   "execution_count": null,
   "metadata": {
    "colab": {
     "base_uri": "https://localhost:8080/"
    },
    "id": "-3GY5dUXQHuQ",
    "outputId": "4734be86-ae0d-4d58-b93e-a37e3a76a888"
   },
   "outputs": [],
   "source": [
    "myList"
   ]
  },
  {
   "cell_type": "code",
   "execution_count": null,
   "metadata": {
    "colab": {
     "base_uri": "https://localhost:8080/"
    },
    "id": "_jXhym1mOrax",
    "outputId": "7bde4e16-cb2d-4e88-f22b-35825eae4d49"
   },
   "outputs": [],
   "source": [
    "foo = [1, 3, 4]\n",
    "bar = [2, 5, 6]\n",
    "foo + bar"
   ]
  },
  {
   "cell_type": "code",
   "execution_count": null,
   "metadata": {
    "colab": {
     "base_uri": "https://localhost:8080/"
    },
    "id": "UNuZDfkmOrpP",
    "outputId": "76848045-b460-4a8f-ddf3-8088ecbec92b"
   },
   "outputs": [],
   "source": [
    "# list\n",
    "bar = [1, 2, 3, 4]\n",
    "bar[0] = 100\n",
    "print(bar)"
   ]
  },
  {
   "cell_type": "code",
   "execution_count": null,
   "metadata": {
    "colab": {
     "base_uri": "https://localhost:8080/",
     "height": 201
    },
    "id": "U4BpSQpLSXOE",
    "outputId": "5be0e38b-4e26-493c-8d3a-f56c7a7375fc"
   },
   "outputs": [],
   "source": [
    "# tuple\n",
    "foo = (1, 2, 3, 4)\n",
    "# len(foo)\n",
    "# foo[0] = 100\n",
    "foo.append(1000)\n"
   ]
  },
  {
   "cell_type": "code",
   "execution_count": null,
   "metadata": {
    "colab": {
     "base_uri": "https://localhost:8080/",
     "height": 35
    },
    "id": "DF8Hp42pSXYU",
    "outputId": "b1e6eef1-f18f-419e-93e6-71fa5e12123b"
   },
   "outputs": [],
   "source": [
    "# string\n",
    "myName = 'Quan' * 5 # 'Quan' or \"Quan\"\n",
    "myName"
   ]
  },
  {
   "cell_type": "code",
   "execution_count": null,
   "metadata": {
    "colab": {
     "base_uri": "https://localhost:8080/"
    },
    "id": "lOtC9txTSXhe",
    "outputId": "c0903cb7-481a-4bcd-d487-e9036e7cabc3"
   },
   "outputs": [],
   "source": [
    "# set,     giao, hop, tru,\n",
    "ham = {1, 2, 3, 4}\n",
    "egg = {3, 4, 5, 6}\n",
    "\n",
    "newSet = ham.intersection(egg)\n",
    "newSet = ham.union(egg)\n",
    "newSet = ham.difference(egg)\n",
    "\n",
    "print(newSet)"
   ]
  },
  {
   "cell_type": "code",
   "execution_count": null,
   "metadata": {
    "colab": {
     "base_uri": "https://localhost:8080/"
    },
    "id": "z6n4nHPTSXqr",
    "outputId": "e692edbb-fcc2-45ab-bec5-ba9efbaeae2f"
   },
   "outputs": [],
   "source": [
    "# dictionary\n",
    "personalInfo = {'name': 'Tai Pham Cong', 'hometown': 'Vietnam', 'age': 20}\n",
    "personalInfo['class'] = 'K65CNKHTN Toan hoc'\n",
    "personalInfo"
   ]
  },
  {
   "cell_type": "code",
   "execution_count": null,
   "metadata": {
    "colab": {
     "base_uri": "https://localhost:8080/"
    },
    "id": "1MJSazYyTqOn",
    "outputId": "30855dd4-75b0-4a79-8203-779c16c3a644"
   },
   "outputs": [],
   "source": [
    "# personalInfo['age']\n",
    "personalInfo.get('age') # get() method in dictionary python"
   ]
  },
  {
   "cell_type": "code",
   "execution_count": null,
   "metadata": {
    "id": "8xWMQWiWTqa4"
   },
   "outputs": [],
   "source": [
    "# personalInfo['tuoi']"
   ]
  },
  {
   "cell_type": "code",
   "execution_count": null,
   "metadata": {
    "id": "aT-LUvodTql7"
   },
   "outputs": [],
   "source": [
    "# >   <     =       <=      >=      !=\n",
    "# 5 >= 5 # True\n",
    "# 1 > 5 # False"
   ]
  },
  {
   "cell_type": "code",
   "execution_count": null,
   "metadata": {
    "colab": {
     "base_uri": "https://localhost:8080/"
    },
    "id": "sRhpiQpIVjPg",
    "outputId": "df7f0d34-ff5c-42a9-9371-1ef127574483"
   },
   "outputs": [],
   "source": [
    "# True and False\n",
    "# and, or, not\n",
    "not True"
   ]
  },
  {
   "cell_type": "code",
   "execution_count": null,
   "metadata": {
    "id": "HJBfjZJz87mc"
   },
   "outputs": [],
   "source": []
  },
  {
   "cell_type": "code",
   "execution_count": null,
   "metadata": {
    "colab": {
     "base_uri": "https://localhost:8080/"
    },
    "id": "xeOh6xTs87v4",
    "outputId": "c17db557-569e-402f-f8d1-9a233113cb89"
   },
   "outputs": [],
   "source": [
    "def greeting():\n",
    "    print('Hello Kitty!')\n",
    "\n",
    "greeting()"
   ]
  },
  {
   "cell_type": "code",
   "execution_count": null,
   "metadata": {
    "colab": {
     "base_uri": "https://localhost:8080/"
    },
    "id": "duAvqOyu873P",
    "outputId": "28c19ecc-a1eb-4723-90a8-7887ef73b7aa"
   },
   "outputs": [],
   "source": [
    "# code của sinh viên: ...\n",
    "\n",
    "# Anh Nguyen Thi Phuong\n",
    "def Age():\n",
    "    print('How old are you?')\n",
    "Age()\n",
    "\n",
    "# chữ cái dầu tiên của tên hàm nên viết thường"
   ]
  },
  {
   "cell_type": "code",
   "execution_count": null,
   "metadata": {
    "colab": {
     "base_uri": "https://localhost:8080/"
    },
    "id": "jodFmjlB87-h",
    "outputId": "78018198-294c-4063-f4a1-aa7bba9eed8d"
   },
   "outputs": [],
   "source": [
    "# TRUNG NGUYEN DUC\n",
    "def lol ():\n",
    "    print('hello and hi')\n",
    "lol ()\n",
    "\n",
    "# không có khoảng cách trước dấu (\n"
   ]
  },
  {
   "cell_type": "code",
   "execution_count": null,
   "metadata": {
    "colab": {
     "base_uri": "https://localhost:8080/"
    },
    "id": "G28LuBJM88Ee",
    "outputId": "b2a8f24b-9616-430c-b35a-e32557a0c924"
   },
   "outputs": [],
   "source": [
    "def greetingSomebody(name):\n",
    "    print('Hello ' + name)\n",
    "\n",
    "greetingSomebody('ai do')"
   ]
  },
  {
   "cell_type": "code",
   "execution_count": null,
   "metadata": {
    "id": "UoQqade388Ky"
   },
   "outputs": [],
   "source": [
    "# viết một hàm nhận vào cạnh của hình vuông, và IN RA diện tích của hình vuông\n"
   ]
  },
  {
   "cell_type": "code",
   "execution_count": null,
   "metadata": {
    "colab": {
     "base_uri": "https://localhost:8080/"
    },
    "id": "9gJvhXIM88Qp",
    "outputId": "cdebc03a-dfaf-4f87-d580-c7b17aaa9405"
   },
   "outputs": [],
   "source": [
    "# QUYNH TRAN DIEM\n",
    "def calculatesquare(length):\n",
    "    area = length **2\n",
    "    return area\n",
    "\n",
    "value = calculatesquare(6)\n",
    "\n",
    "# calculatesquare ---> calculateSquare\n",
    "\n",
    "print(value)\n"
   ]
  },
  {
   "cell_type": "code",
   "execution_count": null,
   "metadata": {
    "colab": {
     "base_uri": "https://localhost:8080/"
    },
    "id": "h7tO2Lp-88Vy",
    "outputId": "b494f038-edd1-45f4-98a8-e0a47509c0c5"
   },
   "outputs": [],
   "source": [
    "# Long Dao Bao\n",
    "def squareArea(edge):\n",
    "\treturn edge*edge\n",
    "\n",
    "squareArea(5)"
   ]
  },
  {
   "cell_type": "code",
   "execution_count": null,
   "metadata": {
    "colab": {
     "base_uri": "https://localhost:8080/"
    },
    "id": "DcpYs_BR88bo",
    "outputId": "79be7f2e-a26b-43dc-fe5d-f3c1cd900c35"
   },
   "outputs": [],
   "source": [
    "# QUAN NGUYEN VU MINH\n",
    "def hinhvuong(canh):\n",
    "    print(canh**2);\n",
    "hinhvuong(2);\n",
    "\n",
    "# nhận xét: không cần dấu ;\n",
    "def hinhvuong(canh):\n",
    "    print(canh**2)\n",
    "hinhvuong(2)"
   ]
  },
  {
   "cell_type": "code",
   "execution_count": null,
   "metadata": {
    "colab": {
     "base_uri": "https://localhost:8080/"
    },
    "id": "qD2ztuao4zY7",
    "outputId": "98d91d6c-7559-4797-d2b2-02539d70766f"
   },
   "outputs": [],
   "source": [
    "# Hoang Anh Quan\n",
    "def greeting():\n",
    "    print('Hello Kitty')\n",
    "greeting()"
   ]
  },
  {
   "cell_type": "code",
   "execution_count": null,
   "metadata": {
    "id": "BEWQFzsa4zjX"
   },
   "outputs": [],
   "source": [
    "# TODO. viết một hàm không nhận tham số, bên trong làm một việc nào đó."
   ]
  },
  {
   "cell_type": "code",
   "execution_count": null,
   "metadata": {
    "colab": {
     "base_uri": "https://localhost:8080/"
    },
    "id": "op9zYx7t4zqW",
    "outputId": "3f9cf801-ec8a-4089-abc0-a8928eb2fcd2"
   },
   "outputs": [],
   "source": [
    "def greeting(): #NguyenThuHa\n",
    "    print('Hi everyone. I am River')\n",
    "greeting()"
   ]
  },
  {
   "cell_type": "code",
   "execution_count": null,
   "metadata": {
    "colab": {
     "base_uri": "https://localhost:8080/"
    },
    "id": "wVy7ZeaF6xhQ",
    "outputId": "fe658c07-b504-4122-e3f9-39eba5c814f0"
   },
   "outputs": [],
   "source": []
  },
  {
   "cell_type": "code",
   "execution_count": null,
   "metadata": {
    "colab": {
     "base_uri": "https://localhost:8080/"
    },
    "id": "0F6jBLxJ4zwq",
    "outputId": "d96c9374-a445-48a7-e5d8-76a75f5abeae"
   },
   "outputs": [],
   "source": [
    "def foo():\n",
    "    a = 22\n",
    "    b = 9\n",
    "    print(a+b)\n",
    "foo()"
   ]
  },
  {
   "cell_type": "code",
   "execution_count": null,
   "metadata": {
    "colab": {
     "base_uri": "https://localhost:8080/"
    },
    "id": "msNZlbSU4z1_",
    "outputId": "e5bb26db-5c13-47aa-fe7d-0e811fefe6f9"
   },
   "outputs": [],
   "source": [
    "# hàm: nhận một tham số, rồi đi xử lý tham số đó\n",
    "# Huy: kiểm tra số chẵn.\n",
    "\n",
    "def greetingSomebody(name):\n",
    "    print('Hello ' + name)\n",
    "\n",
    "greetingSomebody('ToiUuHoa')\n",
    "greetingSomebody('DaiSoTuyenTinh')"
   ]
  },
  {
   "cell_type": "code",
   "execution_count": null,
   "metadata": {
    "id": "IsvNNFfK4z74"
   },
   "outputs": [],
   "source": [
    "# TODO. viết một hàm nhận vào bán kính của một hình tròn,\n",
    "# IN RA diện tích của hình tròn dó."
   ]
  },
  {
   "cell_type": "code",
   "execution_count": null,
   "metadata": {
    "colab": {
     "base_uri": "https://localhost:8080/"
    },
    "id": "fZxhaCQZ40Ce",
    "outputId": "5833181d-bfa4-4a1e-bef6-b76317e45e10"
   },
   "outputs": [],
   "source": [
    "def area(radius):\n",
    "    print(3.14 * radius**2)\n",
    "\n",
    "area(2)"
   ]
  },
  {
   "cell_type": "code",
   "execution_count": null,
   "metadata": {
    "colab": {
     "base_uri": "https://localhost:8080/"
    },
    "id": "mjVd1lNN40IQ",
    "outputId": "c4f539dd-2a81-4c56-b774-8defb9ea71c8"
   },
   "outputs": [],
   "source": [
    "import math\n",
    "def area_of_the_circle(radius):\n",
    "    area = radius**2 * math.pi\n",
    "    print(area)\n",
    "area_of_the_circle(2)"
   ]
  },
  {
   "cell_type": "code",
   "execution_count": null,
   "metadata": {
    "colab": {
     "base_uri": "https://localhost:8080/"
    },
    "id": "lJaDab-J40Oy",
    "outputId": "f6e55dc3-f9da-4810-b806-e54fe1252c74"
   },
   "outputs": [],
   "source": []
  },
  {
   "cell_type": "code",
   "execution_count": null,
   "metadata": {
    "colab": {
     "base_uri": "https://localhost:8080/"
    },
    "id": "cK5EEc-u40Ud",
    "outputId": "3f62181e-c141-4378-81bc-7df1166be566"
   },
   "outputs": [],
   "source": [
    "#Lưu Hiểu Huy\n",
    "import math\n",
    "def hinhtron(r):\n",
    "  pi = math.pi\n",
    "  print(pi * math.pow(r,2))\n",
    "hinhtron(2)"
   ]
  },
  {
   "cell_type": "code",
   "execution_count": null,
   "metadata": {
    "colab": {
     "base_uri": "https://localhost:8080/"
    },
    "id": "MmztfJV_40fA",
    "outputId": "b7c6479b-d394-4d1f-89c2-43acb23f28d0"
   },
   "outputs": [],
   "source": [
    "# hàm có sử dụng return\n",
    "# Phạm Bá Thắng\n",
    "import math\n",
    "def getAreaNewVersion(radius):\n",
    "    area = radius * radius * math.pi\n",
    "    return area\n",
    "\n",
    "print(getArea(3))"
   ]
  },
  {
   "cell_type": "code",
   "execution_count": null,
   "metadata": {
    "colab": {
     "base_uri": "https://localhost:8080/"
    },
    "id": "8NsSOpUY-xoI",
    "outputId": "1d4c057a-8628-454e-b0c6-4606b53c879b"
   },
   "outputs": [],
   "source": [
    "# TODO. viết một hàm nhận vào chiều dài, chiều rộng, chiều cao của một hình hộp chữ nhật\n",
    "# trả về diện tích bề mặt của hình hộp này.\n",
    "\n",
    "# def getSurfaceArea(length, width, height):\n",
    "#     ....\n",
    "\n",
    "\n",
    "#hua quang huy\n",
    "def getSurfaceArea(width, length, height):\n",
    "  return 2 * height * (width + length) + 2 * width * length\n",
    "print(getSurfaceArea(2,4,6))"
   ]
  },
  {
   "cell_type": "code",
   "execution_count": null,
   "metadata": {
    "colab": {
     "base_uri": "https://localhost:8080/"
    },
    "id": "xI6Jp2YK-xuo",
    "outputId": "2da197d0-46ed-417c-af21-4f2296a92e49"
   },
   "outputs": [],
   "source": [
    "#Lê Ngọc Lâm\n",
    "def getSurfaceArea(length, width, height):\n",
    "    return (length*width+length*height+width*height)*2\n",
    "print(getSurfaceArea(2,4,6))"
   ]
  },
  {
   "cell_type": "code",
   "execution_count": null,
   "metadata": {
    "colab": {
     "base_uri": "https://localhost:8080/"
    },
    "id": "OI3YU8O--x1R",
    "outputId": "268e460c-b770-42a2-a7af-58df6c89e2fe"
   },
   "outputs": [],
   "source": [
    "#Lê Thị Thuỳ Dung\n",
    "def getSurfaceArea(length, width, height):\n",
    "    surface_area = 2 * (length * width + width * height + length * height)\n",
    "    return surface_area\n",
    "print(getSurfaceArea(2,4,6))\n",
    "\n",
    "# trước khi đóng ngoặc thì không có dấu cách"
   ]
  },
  {
   "cell_type": "code",
   "execution_count": null,
   "metadata": {
    "id": "nCnWP6Lj-x7p"
   },
   "outputs": [],
   "source": []
  },
  {
   "cell_type": "code",
   "execution_count": null,
   "metadata": {
    "colab": {
     "base_uri": "https://localhost:8080/"
    },
    "id": "CDxP83wfCd7A",
    "outputId": "179c5a13-4fec-4b6c-b097-8f632b6b72dd"
   },
   "outputs": [],
   "source": [
    "# điều kiện rẽ nhánh\n",
    "age = 170\n",
    "if age >= 18:\n",
    "    print('Được kết hôn.')\n",
    "else:\n",
    "    print('Chưa được kết hôn.')"
   ]
  },
  {
   "cell_type": "code",
   "execution_count": null,
   "metadata": {
    "id": "epoWPiVqCeBF"
   },
   "outputs": [],
   "source": [
    "# TODO. viết một điều kiện rẽ nhánh, dựa trên giá trị của một biến nào đó\n",
    "# Lê Thị Thùy Dung,\n",
    "# điểm trung bình môn: >= 4 qua môn, < 4 trượt\n",
    "\n",
    "# Cumulative Grade Point Average, grade, score"
   ]
  },
  {
   "cell_type": "code",
   "execution_count": null,
   "metadata": {
    "colab": {
     "base_uri": "https://localhost:8080/"
    },
    "id": "lTJ1rBivEYmc",
    "outputId": "5de0a9d1-40de-4c31-a4d6-6f4d2d417220"
   },
   "outputs": [],
   "source": [
    "#Giáp Văn Hưng\n",
    "# mediumScore = 5\n",
    "# if(mediumScore < 4):\n",
    "# \tprint(\"trượt\")\n",
    "# else:\n",
    "# \tprint(\"qua môn\")\n",
    "\n",
    "mediumScore = 5\n",
    "if mediumScore < 4:\n",
    "\tprint(\"trượt\")\n",
    "else:\n",
    "\tprint(\"qua môn\")"
   ]
  },
  {
   "cell_type": "code",
   "execution_count": null,
   "metadata": {
    "colab": {
     "base_uri": "https://localhost:8080/"
    },
    "id": "N9oRRqMkEbea",
    "outputId": "eb2f9e28-3563-40a9-91a3-7ba4bb544d24"
   },
   "outputs": [],
   "source": [
    "#hua quang huy\n",
    "mark = 5\n",
    "if mark >= 4:\n",
    "  print('Passed')\n",
    "else:\n",
    "  print('failed')"
   ]
  },
  {
   "cell_type": "code",
   "execution_count": null,
   "metadata": {
    "colab": {
     "base_uri": "https://localhost:8080/"
    },
    "id": "bNuLQ7NAEeFy",
    "outputId": "b7c2269d-af44-43f6-93e3-72d455d81026"
   },
   "outputs": [],
   "source": [
    "# advanced\n",
    "score = 5  # Dang Quy Anh\n",
    "state = 'Truot' if score < 4.0 else 'Qua'\n",
    "print(state)"
   ]
  },
  {
   "cell_type": "code",
   "execution_count": null,
   "metadata": {
    "colab": {
     "base_uri": "https://localhost:8080/"
    },
    "id": "yLIwLTHOEg6Y",
    "outputId": "c1b5569d-6fd1-48b5-f3c5-01106375d550"
   },
   "outputs": [],
   "source": [
    "grade = 9 #Nguyenthuha\n",
    "if grade >= 4:\n",
    "    print('pass')\n",
    "else:\n",
    "    print('false')\n",
    "# sau dấu >= cần có dấu cách."
   ]
  },
  {
   "cell_type": "code",
   "execution_count": null,
   "metadata": {
    "id": "OBfyAc6iFI4m"
   },
   "outputs": [],
   "source": [
    "# if + else   -----> elif\n",
    "# A+ >= 9.0            A >=8.5         còn lại in ra \"dưới A\"\n",
    "# score, grade\n",
    "grade = 9.5\n",
    "\n",
    "# cách 1\n",
    "if grade >= 9.0:\n",
    "    print('A+')\n",
    "else:\n",
    "    if grade >= 8.5:\n",
    "        print('A')\n",
    "    else:\n",
    "        print('Dưới A')\n",
    "\n",
    "# cách 2\n",
    "if grade >= 9.0:\n",
    "    print('A+')\n",
    "elif grade >= 8.5:\n",
    "    print('A')\n",
    "else:\n",
    "    print('Dưới A')"
   ]
  },
  {
   "cell_type": "code",
   "execution_count": null,
   "metadata": {
    "colab": {
     "base_uri": "https://localhost:8080/"
    },
    "id": "hVjxZG1rFJCK",
    "outputId": "a42aac2d-1bb3-439f-f316-09e9a4b2d834"
   },
   "outputs": [],
   "source": [
    "# A+ >= 9.0   A >= 8.5      B+ >= 8.0       B >= 7.0    C+ >= 6.5   còn lại: in ra \"dưới C+\"\n",
    "\n",
    "\n",
    "# Ngô Văn Minh\n",
    "grade = 5.4\n",
    "if grade >= 9.0:\n",
    "    print(\"A+\")\n",
    "elif grade >= 8.5:\n",
    "    print(\"A\")\n",
    "elif grade >= 8.0:\n",
    "    print(\"B+\")\n",
    "elif grade >= 7.0:\n",
    "    print(\"B\")\n",
    "elif grade >= 6.5:\n",
    "    print(\"C+\")\n",
    "else:\n",
    "    print(\"Duoi C\")"
   ]
  },
  {
   "cell_type": "code",
   "execution_count": null,
   "metadata": {
    "id": "92lH5ZC5Hf-w"
   },
   "outputs": [],
   "source": [
    "if grade>=9.0:#NguyenthuHa\n",
    "    print('A+')\n",
    "elif grade >= 8.5:\n",
    "    print('A')\n",
    "elif grade >= 8:\n",
    "    print('B+')\n",
    "elif grade >= 7:\n",
    "    print('B')\n",
    "elif grade >= 6.5:\n",
    "    print('C+')\n",
    "else:\n",
    "    print('duoiC')"
   ]
  },
  {
   "cell_type": "code",
   "execution_count": null,
   "metadata": {
    "id": "_GQNgOqUHeFc"
   },
   "outputs": [],
   "source": [
    "#Lê Thị Thuỳ Dung\n",
    "grade = 9\n",
    "if grade >= 9.0:\n",
    "    print('A+')\n",
    "elif grade >= 8.5:\n",
    "    print('A')\n",
    "elif grade >= 8.0:\n",
    "    print('B+')\n",
    "elif grade >= 7.0:\n",
    "    print('B')\n",
    "elif grade >= 6.5:\n",
    "    print('C+')\n",
    "else:\n",
    "    print('Duoi C+')"
   ]
  },
  {
   "cell_type": "code",
   "execution_count": null,
   "metadata": {
    "colab": {
     "base_uri": "https://localhost:8080/"
    },
    "id": "aLoEWlutHKnJ",
    "outputId": "6049cd9f-8daf-45a7-9c28-4773376657a8"
   },
   "outputs": [],
   "source": [
    "# Nguyễn Quốc Anh\n",
    "grade = 3.3\n",
    "if grade >= 9.0: print('A+')\n",
    "elif grade >= 8.5: print('A')\n",
    "elif grade >= 8.0: print('B+')\n",
    "elif grade >= 7.0: print('B')\n",
    "elif grade >= 6.5: print('C+')\n",
    "else: print('Dưới C+')"
   ]
  },
  {
   "cell_type": "code",
   "execution_count": null,
   "metadata": {
    "id": "RCYfSoSrHmH2"
   },
   "outputs": [],
   "source": [
    "#hua quang huy\n",
    "mark = 9\n",
    "if mark >= 9:\n",
    "  print('A+')\n",
    "elif mark >= 8.5:\n",
    "  print('A')\n",
    "elif mark >= 8:\n",
    "  print('B+')\n",
    "elif mark >= 7:\n",
    "  print('B')\n",
    "elif mark >= 6.5:\n",
    "  print('C+')\n",
    "elif mark >= 6:\n",
    "  print('C')\n",
    "elif mark >= 5.5:\n",
    "  print('D+')\n",
    "elif mark >= 5:\n",
    "  print('D')\n",
    "else:\n",
    "  print('F')"
   ]
  },
  {
   "cell_type": "code",
   "execution_count": null,
   "metadata": {
    "id": "9bXWwMr6FJJP"
   },
   "outputs": [],
   "source": [
    "# ý tưởng. Hứa Quang Huy\n",
    "# BTVN\n",
    "\n",
    "# BMI = cân nặng (kg) / chiều cao^2 (m^2)\n",
    "# BMI < 19 gầy\n",
    "# BMI 19-24: trung bình\n",
    "# BMI > 24: thừa cân\n",
    "\n",
    "# TODO: viết một hàm nhận vào chiều cao (đơn vị cm) và cân nặng (đơn vị kg)\n",
    "# trả về một string thể hiện tình trạng sức khỏe dựa theo mô tả trên.\n"
   ]
  },
  {
   "cell_type": "code",
   "execution_count": null,
   "metadata": {
    "id": "G3ozeBJlFJQI"
   },
   "outputs": [],
   "source": []
  },
  {
   "cell_type": "code",
   "execution_count": null,
   "metadata": {
    "id": "R4BimEYaFJWe"
   },
   "outputs": [],
   "source": [
    "# vòng lặp qua list"
   ]
  },
  {
   "cell_type": "code",
   "execution_count": null,
   "metadata": {
    "colab": {
     "base_uri": "https://localhost:8080/"
    },
    "id": "QHaahn6TFJa2",
    "outputId": "99c7f45e-a0ad-4d9b-e9aa-deb72acede64"
   },
   "outputs": [],
   "source": [
    "myList = [1,2,4,6,7,10]\n",
    "# for value in myList:\n",
    "#     print(value)\n",
    "\n",
    "# # hãy viết vòng lặp để in ra tất cả số chẵn ở trong myList\n",
    "# # Anh Nguyen Thi Phuong\n",
    "for value in myList:\n",
    "    if value % 2 == 0:\n",
    "        print(value)\n",
    "# # nhận xét: trước và sau dấu % thì nên có một dấu cách"
   ]
  },
  {
   "cell_type": "code",
   "execution_count": null,
   "metadata": {
    "colab": {
     "base_uri": "https://localhost:8080/"
    },
    "id": "hmQrEi0KDY0v",
    "outputId": "68a3dc89-a32e-4548-e082-7da3a638a251"
   },
   "outputs": [],
   "source": [
    "# TRUNG NGUYEN DUC\n",
    "# print(\"Nhập giá trị n: \",end='')\n",
    "# n=int(input())\n",
    "n = 9\n",
    "if 0< n < 10:\n",
    "    tong=0\n",
    "    for i in range(n):\n",
    "        tong = tong+i\n",
    "    print(\"Tổng dãy số từ 1 đến 10 là: \",tong)\n",
    "else:\n",
    "    print(\"Vui lòng nhập 0<n < 10!\")"
   ]
  },
  {
   "cell_type": "code",
   "execution_count": null,
   "metadata": {
    "colab": {
     "base_uri": "https://localhost:8080/"
    },
    "id": "0trWrc8hDY7U",
    "outputId": "5aed7e9f-f9e0-4118-bec5-88a91154e9b0"
   },
   "outputs": [],
   "source": [
    "# NHUNG CHỬ THỊ TRANG\n",
    "age = 20\n",
    "if age >=18:\n",
    "  print('Được điều khiển xe gắn máy.')\n",
    "else:\n",
    "  print('Chưa được điều khiển xe gắn máy')\n",
    "\n",
    "print(age >=18)"
   ]
  },
  {
   "cell_type": "code",
   "execution_count": null,
   "metadata": {
    "colab": {
     "base_uri": "https://localhost:8080/"
    },
    "id": "sXWIVFhaDZIo",
    "outputId": "8968e6ef-7e50-4076-8753-a2eb15016cba"
   },
   "outputs": [],
   "source": [
    "# A+ >= 9.0            A >=8.5      B+ >= 8.0       B >= 7.0        còn lại là dưới B\n",
    "# Anh Nguyen Thi Phuong\n",
    "grade = 8\n",
    "if grade >= 9.0:\n",
    "    print('A+')\n",
    "elif grade >= 8.5:\n",
    "    print('A')\n",
    "elif grade >= 8.0:\n",
    "    print('B+')\n",
    "elif grade >= 7.0:\n",
    "    print('B')\n",
    "else:\n",
    "    print('Dưới B')\n",
    "\n",
    "# trước và sau dấu \">=\" cần có dấu cách"
   ]
  },
  {
   "cell_type": "code",
   "execution_count": null,
   "metadata": {
    "id": "eTFm8ca2DZP6"
   },
   "outputs": [],
   "source": [
    "## Vòng lặp"
   ]
  },
  {
   "cell_type": "code",
   "execution_count": null,
   "metadata": {
    "id": "c2kOrdt-VjbB"
   },
   "outputs": [],
   "source": [
    "# write a function that prints \"hello K65\"\n",
    "def Greeting(name):\n",
    "    txt = \"Hello {}\"\n",
    "    # print(txt.append(name))\n",
    "    print(txt.format(name))\n",
    "\n",
    "def GreetingNew(name):\n",
    "    # print(\"Hello\" + \" \" + name)\n",
    "    print(\"Hello \" + name)"
   ]
  },
  {
   "cell_type": "code",
   "execution_count": null,
   "metadata": {
    "colab": {
     "base_uri": "https://localhost:8080/"
    },
    "id": "WfkPbHcaVjm9",
    "outputId": "280c4fde-43b8-4da5-fbdb-9db77bebb7c7"
   },
   "outputs": [],
   "source": [
    "Greeting('Hoan')"
   ]
  },
  {
   "cell_type": "code",
   "execution_count": null,
   "metadata": {
    "colab": {
     "base_uri": "https://localhost:8080/"
    },
    "id": "meIxqu_oVjw3",
    "outputId": "27dcc0d3-2ece-4700-ed4d-f77b6c012039"
   },
   "outputs": [],
   "source": [
    "GreetingNew('Hoan')"
   ]
  },
  {
   "cell_type": "code",
   "execution_count": null,
   "metadata": {
    "colab": {
     "base_uri": "https://localhost:8080/"
    },
    "id": "OjYRfJFKVj_p",
    "outputId": "f454cd3f-4106-4323-bd64-5b7a6f83b187"
   },
   "outputs": [],
   "source": [
    "def getSum(a, b):\n",
    "    return a + b\n",
    "\n",
    "getSum(10, 1212)"
   ]
  },
  {
   "cell_type": "code",
   "execution_count": null,
   "metadata": {
    "id": "iq_SmZzCYFkb"
   },
   "outputs": [],
   "source": [
    "#  viết một hàm nhận vào điểm (thang 10) và trả về điểm chữ thỏa mãn\n",
    "# x >= 9.0 thì là A+\n",
    "# 9.0 > x >= 8.5 thì là A\n",
    "# còn lại là F"
   ]
  },
  {
   "cell_type": "code",
   "execution_count": null,
   "metadata": {
    "colab": {
     "base_uri": "https://localhost:8080/"
    },
    "id": "jfg0f7GAYFxq",
    "outputId": "2676906a-0976-43ec-d5c8-482c5ab8bec8"
   },
   "outputs": [],
   "source": [
    "value = -100\n",
    "if value > 10:\n",
    "    print('value lon hon 10')\n",
    "else:\n",
    "    print('value nho hon 10')"
   ]
  },
  {
   "cell_type": "code",
   "execution_count": null,
   "metadata": {
    "colab": {
     "base_uri": "https://localhost:8080/",
     "height": 35
    },
    "id": "gOQ0SItAYF6z",
    "outputId": "6934a907-bfb0-4037-a73c-ca4539319ec3"
   },
   "outputs": [],
   "source": [
    "def GradeScale(value): # Hoan\n",
    "    if (value >= 9.0):\n",
    "        return 'A+'\n",
    "    else:\n",
    "        if (value >= 8.5):\n",
    "            return 'A'\n",
    "        else:\n",
    "            return 'F'\n",
    "\n",
    "\n",
    "def GradeScale(value): # Hoan + Minh\n",
    "    if value >= 9.0:\n",
    "        return 'A+'\n",
    "    elif value >= 8.5:\n",
    "        return 'A'\n",
    "    else:\n",
    "        return 'F'\n",
    "\n",
    "\n",
    "\n",
    "GradeScale(4)"
   ]
  },
  {
   "cell_type": "code",
   "execution_count": null,
   "metadata": {
    "colab": {
     "base_uri": "https://localhost:8080/"
    },
    "id": "xOUUNN3dYGEV",
    "outputId": "69cf8707-7cc3-480a-c097-afd4e4c1ee34"
   },
   "outputs": [],
   "source": [
    "# for - loop\n",
    "myList = [1, 2, 3, 4, 5]\n",
    "myList = range(11, 1, -1) # range(n) ----> 0, 1, 2, ..., n-1\n",
    "# range(m, n) ---> m, ..., n-1\n",
    "# range(3, 11, 2)\n",
    "\n",
    "for value in myList:\n",
    "    print('current value is ', value)"
   ]
  },
  {
   "cell_type": "code",
   "execution_count": null,
   "metadata": {
    "id": "o40iGbauYGPT"
   },
   "outputs": [],
   "source": [
    "# https://projecteuler.net/problem=1\n",
    "#\n",
    "# If we list all the natural numbers below 10 that are multiples of 3 or 5,\n",
    "# we get 3, 5, 6 and 9. The sum of these multiples is 23.\n",
    "# Find the sum of all the multiples of 3 or 5 below 1000."
   ]
  },
  {
   "cell_type": "code",
   "execution_count": null,
   "metadata": {
    "colab": {
     "base_uri": "https://localhost:8080/"
    },
    "id": "XwCKY9qRYGYy",
    "outputId": "7b364611-7b22-4108-cd53-59f319e732f8"
   },
   "outputs": [],
   "source": [
    "# Nguyen Huu Hoan\n",
    "mySum = 0\n",
    "for value in range(1, 1001):\n",
    "    if value % 3 == 0 or value % 5 == 0:\n",
    "        mySum += value\n",
    "print(mySum)"
   ]
  },
  {
   "cell_type": "code",
   "execution_count": null,
   "metadata": {
    "colab": {
     "base_uri": "https://localhost:8080/"
    },
    "id": "87qL8hSpSYLo",
    "outputId": "efe29ff0-8527-4407-d25c-a77d8ccd09cf"
   },
   "outputs": [],
   "source": [
    "# Minh Dinh Hoang Nhat 08:18\n",
    "sum = sum(i for i in range(1000) if i % 3 == 0 or i % 5 == 0)\n",
    "print(sum)"
   ]
  },
  {
   "cell_type": "code",
   "execution_count": null,
   "metadata": {
    "colab": {
     "base_uri": "https://localhost:8080/"
    },
    "id": "CzQfY9gVdcYi",
    "outputId": "70e4d718-b2de-481f-adfc-88f1ec6aa0ac"
   },
   "outputs": [],
   "source": [
    "# Minh Tran Nhat 08:23\n",
    "s = 0\n",
    "i = 1\n",
    "while i<1000:\n",
    "    if i%3 == 0:\n",
    "        s += i\n",
    "    elif i%5 == 0:\n",
    "        s += i\n",
    "    i += 1\n",
    "print(s)"
   ]
  },
  {
   "cell_type": "code",
   "execution_count": null,
   "metadata": {
    "colab": {
     "base_uri": "https://localhost:8080/"
    },
    "id": "HoxameL2dciK",
    "outputId": "0f0259b6-c40f-49a0-f286-273797ae29cc"
   },
   "outputs": [],
   "source": [
    "# Hung Le Quang 08:37\n",
    "def f(n):\n",
    "    a = 1/(5**(1/2))\n",
    "    S=a*(((1+5**(1/2))/2)**n-(((1-5**(1/2))/2)**n))\n",
    "\n",
    "    print(S)\n",
    "    print(S % 10)\n",
    "    print(int(S))\n",
    "\n",
    "f(100)"
   ]
  },
  {
   "cell_type": "code",
   "execution_count": null,
   "metadata": {
    "colab": {
     "base_uri": "https://localhost:8080/"
    },
    "id": "X5buhrNidcsb",
    "outputId": "3119bb05-bdf8-4f8f-fb4a-b653655205fa"
   },
   "outputs": [],
   "source": [
    "# Minh Dinh Hoang Nhat08:37\n",
    "def getNthFib(n):\n",
    "    previous = 0\n",
    "    now = 1\n",
    "    for i in range(n-1):\n",
    "        next = previous + now\n",
    "        previous = now\n",
    "        now = next\n",
    "    return now\n",
    "\n",
    "getNthFib(100)"
   ]
  },
  {
   "cell_type": "code",
   "execution_count": null,
   "metadata": {
    "colab": {
     "base_uri": "https://localhost:8080/"
    },
    "id": "sEcrV11idc5Z",
    "outputId": "2f0592a1-0013-4ba5-bd29-a1a1f4d39686"
   },
   "outputs": [],
   "source": [
    "# tạo một list lưu các số fibonacci.\n",
    "def F(n):\n",
    "    valuesList = []\n",
    "    for i in range(n + 1):\n",
    "        if i == 0:\n",
    "            valuesList.append(0)\n",
    "        elif i == 1:\n",
    "            valuesList.append(1)\n",
    "        else:\n",
    "            a = valuesList[-1]\n",
    "            b = valuesList[-2]\n",
    "            valuesList.append(a + b)\n",
    "    return valuesList[-1]\n",
    "F(100)"
   ]
  },
  {
   "cell_type": "code",
   "execution_count": null,
   "metadata": {
    "id": "WUuMxgJ3Oi-b"
   },
   "outputs": [],
   "source": [
    "# kiến thức liên quan đến vòng lặp."
   ]
  },
  {
   "cell_type": "code",
   "execution_count": null,
   "metadata": {
    "id": "b4tMDvYyNfoe"
   },
   "outputs": [],
   "source": [
    "\"\"\"\n",
    "Bài toán 1: tính tổng các số tự nhiên nhỏ hơn 10.\n",
    "Bài toán 2: tính tổng các số tự nhiên nhỏ hơn 10 và chia hết cho 3.\n",
    "Bài toán 3: tính tổng các số tự nhiên nhỏ hơn 1000.\n",
    "Bài toán 4: tính tổng các số tự nhiên nhỏ hơn 1000 và chia hết cho 3.\n",
    "Bài toán 5: tính tổng các số tự nhiên nhỏ hơn 1000\n",
    "    và thỏa mãn chia hết cho 3 hoặc chia hết cho 5.\n",
    "\"\"\"\n"
   ]
  },
  {
   "cell_type": "code",
   "execution_count": null,
   "metadata": {
    "id": "HlsSkD_VhJWs"
   },
   "outputs": [],
   "source": []
  },
  {
   "cell_type": "code",
   "execution_count": null,
   "metadata": {
    "id": "HxszdWMHhJev"
   },
   "outputs": [],
   "source": [
    "# list comprehension\n",
    "\n",
    "# bài toán: cho một list gồm các số, tạo một list mới với phần tử là bình phương\n",
    "# các phần tử của list ban đầu\n",
    "inputList = [1, 4, 2, -2, 3, 0]\n",
    "outputList = [1, 16, 4, 4, 9, 0]"
   ]
  },
  {
   "cell_type": "code",
   "execution_count": null,
   "metadata": {
    "colab": {
     "base_uri": "https://localhost:8080/"
    },
    "id": "YVarzbEdhJm1",
    "outputId": "6262e64f-03e7-41ae-eff0-4e5aec23deab"
   },
   "outputs": [],
   "source": [
    "def SquareOf(list):\n",
    "    # Nguyen Huu Hoan\n",
    "    new_list = []\n",
    "    for i in range(0, len(list)):\n",
    "        new_list.append(list[i]**2)\n",
    "    return new_list\n",
    "\n",
    "print(inputList)\n",
    "outputList = SquareOf(inputList)\n",
    "print(outputList)"
   ]
  },
  {
   "cell_type": "code",
   "execution_count": null,
   "metadata": {
    "id": "7eP1judshJuw"
   },
   "outputs": [],
   "source": [
    "def SquareOfNew(foo):\n",
    "    new_list = []\n",
    "    for i in foo:\n",
    "        new_list.append(i**2)\n",
    "    return new_list"
   ]
  },
  {
   "cell_type": "code",
   "execution_count": null,
   "metadata": {
    "id": "V5shu0bihJ2Y"
   },
   "outputs": [],
   "source": [
    "# list('ToiUuHoa')"
   ]
  },
  {
   "cell_type": "code",
   "execution_count": null,
   "metadata": {
    "colab": {
     "base_uri": "https://localhost:8080/"
    },
    "id": "hCg-bhvrhJ9I",
    "outputId": "7b7a1909-da65-4a8a-e45f-8776c3c21225"
   },
   "outputs": [],
   "source": [
    "# list comprehension\n",
    "a = [1, 4, 2, -2, 3, 0]\n",
    "b = [i**2 for i in a]\n",
    "b"
   ]
  },
  {
   "cell_type": "code",
   "execution_count": null,
   "metadata": {
    "colab": {
     "base_uri": "https://localhost:8080/"
    },
    "id": "5YbXdkDohKEW",
    "outputId": "4c3ef81d-6458-4eec-c767-a75f1bbc235b"
   },
   "outputs": [],
   "source": [
    "inputList = ['Andjsdajsdh', 'sdfa', 'qw']\n",
    "# b = [len(x) for x in inputList]\n",
    "b = [1 for x in inputList]\n",
    "b"
   ]
  },
  {
   "cell_type": "code",
   "execution_count": null,
   "metadata": {
    "colab": {
     "base_uri": "https://localhost:8080/"
    },
    "id": "H6BmhthVkv7Q",
    "outputId": "b2329351-4561-467f-dcf9-7e4a0a5f67df"
   },
   "outputs": [],
   "source": [
    "# cho một list, in ra những phần tử là số chẵn\n",
    "inputList = [2, 1, 5, 1, 7, 9, 4, 6, 1, 4]\n",
    "outputList = [x for x in inputList if x % 2 == 0]\n",
    "outputList"
   ]
  },
  {
   "cell_type": "code",
   "execution_count": null,
   "metadata": {
    "colab": {
     "base_uri": "https://localhost:8080/"
    },
    "id": "tdBOckpjle9o",
    "outputId": "e166755a-b32f-4d08-d2bc-200839c4a849"
   },
   "outputs": [],
   "source": [
    "inputList = [2, 1, 5, 4, 6]\n",
    "# [f(x) if condition else g(x) for x in sequence]\n",
    "outputList = [x if x % 2 == 0 else x**2 for x in inputList]\n",
    "outputList # [2, 1, 25, 4, 6]"
   ]
  },
  {
   "cell_type": "code",
   "execution_count": null,
   "metadata": {
    "colab": {
     "base_uri": "https://localhost:8080/"
    },
    "id": "pgidg1t7lKXM",
    "outputId": "527dc936-0222-47ab-c3f9-6022eaaa9e75"
   },
   "outputs": [],
   "source": [
    "inputList = [2, 1, 5]\n",
    "outputList = [x + y for x in inputList for y in inputList]\n",
    "outputList\n",
    "# [4, 3, 7, 3, 2, 6, 7, 6, 10]"
   ]
  },
  {
   "cell_type": "code",
   "execution_count": null,
   "metadata": {
    "colab": {
     "base_uri": "https://localhost:8080/"
    },
    "id": "ojPhqPQ7lT9i",
    "outputId": "23c2ebf0-0a80-4238-8eaa-e14ab221982e"
   },
   "outputs": [],
   "source": [
    "import numpy as np\n",
    "\n",
    "arr = np.array([1, 2, 3, 4])\n",
    "\n",
    "print(arr)"
   ]
  },
  {
   "cell_type": "code",
   "execution_count": null,
   "metadata": {
    "colab": {
     "base_uri": "https://localhost:8080/"
    },
    "id": "lQBcAYpilUFw",
    "outputId": "db62b30e-50b7-4334-94db-9d5cde6eda51"
   },
   "outputs": [],
   "source": [
    "arr ** 2"
   ]
  },
  {
   "cell_type": "code",
   "execution_count": null,
   "metadata": {
    "colab": {
     "base_uri": "https://localhost:8080/"
    },
    "id": "XBDlPdPtlUNQ",
    "outputId": "f9f4ed53-c7e8-40ad-e80b-079a37fcb10d"
   },
   "outputs": [],
   "source": [
    "# viết một bảng 2x2 gồm các số 3, 4, 5, 6\n",
    "arr = np.array([[3, 4, 10], [5, 6, 20]])\n",
    "print(arr)\n",
    "# aa = [ [3, 4], [5, 6]   ]\n",
    "# print(aa)"
   ]
  },
  {
   "cell_type": "code",
   "execution_count": null,
   "metadata": {
    "colab": {
     "base_uri": "https://localhost:8080/"
    },
    "id": "cOn8mdFrnUVj",
    "outputId": "02b7b162-125d-4afd-d9bc-f9f04b6188dd"
   },
   "outputs": [],
   "source": [
    "arr.shape"
   ]
  },
  {
   "cell_type": "code",
   "execution_count": null,
   "metadata": {
    "id": "7JOu2EninUdN"
   },
   "outputs": [],
   "source": [
    "# n-dimensional array"
   ]
  },
  {
   "cell_type": "code",
   "execution_count": null,
   "metadata": {
    "colab": {
     "base_uri": "https://localhost:8080/"
    },
    "id": "75xOtbsnn5ES",
    "outputId": "094fd48a-af83-4a61-c111-847f81a59bce"
   },
   "outputs": [],
   "source": [
    "arr = np.array([[3, 4], [5, 6]])\n",
    "arr"
   ]
  },
  {
   "cell_type": "code",
   "execution_count": null,
   "metadata": {
    "colab": {
     "base_uri": "https://localhost:8080/"
    },
    "id": "Tf0o-vpon5J_",
    "outputId": "9972ce12-0599-4d06-b220-5657ddd93f2a"
   },
   "outputs": [],
   "source": [
    "np.linalg.det(arr)"
   ]
  }
 ],
 "metadata": {
  "colab": {
   "provenance": []
  },
  "kernelspec": {
   "display_name": "Python 3 (ipykernel)",
   "language": "python",
   "name": "python3"
  },
  "language_info": {
   "codemirror_mode": {
    "name": "ipython",
    "version": 3
   },
   "file_extension": ".py",
   "mimetype": "text/x-python",
   "name": "python",
   "nbconvert_exporter": "python",
   "pygments_lexer": "ipython3",
   "version": "3.10.9"
  }
 },
 "nbformat": 4,
 "nbformat_minor": 4
}
